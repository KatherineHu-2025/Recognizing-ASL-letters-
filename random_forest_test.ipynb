{
 "cells": [
  {
   "cell_type": "code",
   "execution_count": 1,
   "id": "d7991f2a-1500-4509-9bd3-07369f28858c",
   "metadata": {},
   "outputs": [],
   "source": [
    "import pandas as pd\n",
    "from sklearn.preprocessing import MinMaxScaler\n",
    "from sklearn.pipeline import Pipeline\n",
    "from sklearn.model_selection import GridSearchCV\n",
    "\n",
    "train_df = pd.read_csv('sign_mnist_train.csv')\n",
    "test_df = pd.read_csv('sign_mnist_test.csv')"
   ]
  },
  {
   "cell_type": "code",
   "execution_count": 2,
   "id": "1c798d1c-5588-4f07-b63e-3b825cf59186",
   "metadata": {},
   "outputs": [],
   "source": [
    "train_features = train_df.iloc[:,train_df.columns != 'label']\n",
    "train_labels = train_df.iloc[:,train_df.columns == 'label']\n",
    "train_labels = train_labels.values.reshape(-1)\n",
    "\n",
    "test_features = test_df.iloc[:,test_df.columns != 'label']\n",
    "test_labels = test_df.iloc[:,test_df.columns == 'label']\n",
    "test_labels = test_labels.values.reshape(-1)"
   ]
  },
  {
   "cell_type": "code",
   "execution_count": 3,
   "id": "73bd90bb-1fb3-42ab-980c-43694d0a30d9",
   "metadata": {},
   "outputs": [],
   "source": [
    "def pretty_print(image_example):\n",
    "    \"\"\" Pretty prints a Sign Language MNIST example. Code taken from Fashion MNIST Homework.\n",
    "\n",
    "    Parameters:\n",
    "        image_example: a 1x784 numpy array corresponding to the features of\n",
    "                       a single image.\n",
    "\n",
    "    Returns:\n",
    "        None.\n",
    "    \"\"\"\n",
    "    print(np.array_str(image_example, precision=1, max_line_width=116))"
   ]
  },
  {
   "cell_type": "code",
   "execution_count": 4,
   "id": "d320b888-4321-4940-9d58-4a4406111cd2",
   "metadata": {},
   "outputs": [
    {
     "name": "stdout",
     "output_type": "stream",
     "text": [
      "Dimensions of training set feature matrix: (27455, 784)\n",
      "Dimensions of training set label matrix: (27455,)\n",
      "[173 175 176 176 176 176 176 176 175 175 175 173 174 173 173 173 172 171 171 171 170 169 168 169 167 166 164 164\n",
      " 175 175 177 177 177 177 177 176 176 176 176 175 176 174 174 174 173 172 172 172 171 171 169 170 168 166 165 165\n",
      " 177 177 177 177 178 178 177 177 177 176 177 176 176 176 175 174 173 173 173 172 171 171 170 170 169 167 167 165\n",
      " 178 178 178 178 178 178 179 179 179 178 177 177 176 176 176 174 174 174 174 173 171 171 171 170 170 169 168 167\n",
      " 178 180 180 180 180 180 180 181 180 178 178 178 178 176 176 176 176 175 174 172 172 172 173 171 171 169 169 168\n",
      " 181 181 181 181 181 181 180 180 181 179 179 179 178 178 178 177 176 176 175 173 173 172 173 172 172 170 170 168\n",
      " 181 182 182 182 182 182 181 181 182 182 181 179 179 179 178 178 177 177 177 176 176 176 173 171 172 172 170 169\n",
      " 183 183 184 183 182 183 183 183 182 182 182 182 182 182 182 181 180 177 174 171 168 157 152 181 173 166 173 170\n",
      " 184 183 183 184 186 185 184 184 184 186 185 183 177 171 166 160 162 164 163 154 155 144 149 189 159 147 177 171\n",
      " 185 185 186 186 186 187 184 182 169 160 161 165 161 151 140 134 143 157 160 150 143 137 127 139 134 161 174 171\n",
      " 186 187 187 188 189 186 179 172 155 146 140 121 149 154 148 126 127 134 123 117 104 106 120 142 165 176 172 172\n",
      " 188 187 188 188 185 169 163 167 165 165 144  96  93 109 105  92 100 105 121 132 150 169 176 180 178 177 174 173\n",
      " 188 189 184 176 169 160 158 160 167 160 118  89  76  69  78 101 135 169 181 184 185 182 179 178 177 177 175 174\n",
      " 188 181 172 167 162 160 152 153 160 152 133  91  77  83 156 176 189 187 183 183 182 181 180 180 177 177 176 175\n",
      " 179 173 167 162 158 157 153 154 156 158 152 112  80  74 158 195 184 185 185 184 182 182 181 180 179 177 176 175\n",
      " 181 173 165 160 159 159 156 155 158 159 152 113  82  73  90 190 187 187 186 185 184 183 183 181 181 180 177 176\n",
      " 180 172 168 162 160 159 158 154 156 156 153 128  84  79  71 152 197 186 187 187 186 184 183 182 182 181 178 177\n",
      " 174 169 169 163 160 159 161 161 162 164 160 135  89  78  72  99 196 187 189 188 187 186 185 183 183 181 180 179\n",
      " 168 173 164 161 161 157 159 152 150 152 144 121  92  81  69 102 196 189 189 188 187 186 187 184 183 183 182 180\n",
      " 166 161 160 162 166 160 153 146 140 139 129 111  97  85  70 166 196 190 190 189 187 187 187 186 185 183 181 180\n",
      " 164 152 156 162 164 161 152 146 137 140 128 104  99  94  70 173 198 191 192 190 188 188 188 186 186 184 182 181\n",
      " 147 142 151 156 154 151 142 133 122 121 106  97  97 103  69 134 204 191 192 190 189 188 188 187 187 185 183 181\n",
      " 123 126 140 145 142 131 122 114 105  88  71  83 102 101  65 145 203 192 193 191 191 191 189 188 187 187 184 182\n",
      "  75  94 112 128 124 110  97  88  82  80  73  94  95  96 141 194 195 195 194 193 192 192 191 188 187 187 186 184\n",
      "  55  45  57  74  86  92 103 125 119  94  87 101 125 173 203 197 195 195 193 193 192 190 190 189 188 186 186 184\n",
      "  64  45  36  41  31  96 201 201 201 185 174 179 198 200 194 195 194 193 193 192 192 191 190 189 187 186 184 184\n",
      "  63  53  35  40  41 176 206 197 199 203 204 202 198 196 197 195 194 195 194 193 193 192 190 189 188 186 184 184\n",
      "  62  54  38  29  95 212 198 200 199 199 199 199 199 198 198 197 195 195 194 193 194 192 191 189 188 188 185 184]\n"
     ]
    },
    {
     "data": {
      "image/png": "[encoded data removed]",
      "text/plain": [
       "<Figure size 432x288 with 1 Axes>"
      ]
     },
     "metadata": {
      "needs_background": "light"
     },
     "output_type": "display_data"
    }
   ],
   "source": [
    "import gzip\n",
    "import numpy as np\n",
    "import matplotlib.pyplot as plt\n",
    "\n",
    "print(\"Dimensions of training set feature matrix:\", train_features.shape)\n",
    "print(\"Dimensions of training set label matrix:\", train_labels.shape)\n",
    "\n",
    "EXAMPLE_INDEX = np.random.randint(27455)\n",
    "pretty_print(train_features.iloc[EXAMPLE_INDEX].values)\n",
    "\n",
    "plt.figure()\n",
    "plt.imshow(train_features.iloc[EXAMPLE_INDEX].values.reshape(28,28),cmap='gray', vmin=0, vmax=255)\n",
    "plt.show()"
   ]
  },
  {
   "cell_type": "code",
   "execution_count": 5,
   "id": "e13a69e4-17b9-443e-80ff-664093113287",
   "metadata": {},
   "outputs": [],
   "source": [
    "from sklearn.ensemble import RandomForestClassifier\n",
    "from sklearn.pipeline import make_pipeline\n",
    "from sklearn.preprocessing import MinMaxScaler\n",
    "from sklearn.model_selection import GridSearchCV\n",
    "from sklearn.metrics import f1_score"
   ]
  },
  {
   "cell_type": "code",
   "execution_count": null,
   "id": "6f222c75-244e-4fee-9f38-5fb756345bb2",
   "metadata": {},
   "outputs": [],
   "source": [
    "# rfc_pipe = Pipeline([\n",
    "#         ('scaler', MinMaxScaler()),\n",
    "#         ('RFC', RandomForestClassifier(n_jobs = -1))\n",
    "#         ])\n",
    "\n",
    "# # other params are set to reasonable measures\n",
    "\n",
    "# rfc_param_grid = {'RFC__n_estimators': [100,500,1000,1500,2000]}\n",
    "\n",
    "# rfc = GridSearchCV(rfc_pipe, rfc_param_grid, scoring='f1_weighted', cv=5, n_jobs = -1, error_score='raise')\n",
    "# rfc.fit(train_features,train_labels)\n",
    "# print(rfc.best_params_)\n",
    "# print(rfc.best_score_)\n",
    "\n",
    "# # generate a curve that gives performance on y axis"
   ]
  },
  {
   "cell_type": "code",
   "execution_count": null,
   "id": "9fea6667-a80f-4584-971c-914b2b5c3478",
   "metadata": {},
   "outputs": [],
   "source": [
    "# from sklearn.ensemble import RandomForestClassifier\n",
    "# from sklearn.metrics import accuracy_score\n",
    "# scores =[]\n",
    "# for k in range(1, 200):\n",
    "#     rfc = RandomForestClassifier(n_estimators=k)\n",
    "#     rfc.fit(x_train, y_train)\n",
    "#     y_pred = rfc.predict(x_test)\n",
    "#     scores.append(accuracy_score(y_test, y_pred))\n",
    "\n",
    "# import matplotlib.pyplot as plt\n",
    "# %matplotlib inline\n",
    "\n",
    "# # plot the relationship between K and testing accuracy\n",
    "# # plt.plot(x_axis, y_axis)\n",
    "# plt.plot(range(1, 200), scores)\n",
    "# plt.xlabel('Value of n_estimators for Random Forest Classifier')\n",
    "# plt.ylabel('Testing Accuracy')"
   ]
  },
  {
   "cell_type": "code",
   "execution_count": 6,
   "id": "a898e56f-39fd-448f-9761-12db507378d9",
   "metadata": {},
   "outputs": [],
   "source": [
    "train_scores = []\n",
    "\n",
    "rfc_pipe = Pipeline([\n",
    "        ('scaler', MinMaxScaler()),\n",
    "        ('RFC', RandomForestClassifier(n_jobs = -1))\n",
    "        ])\n",
    "for k in range(1, 101):\n",
    "    estimator_param = {'RFC__n_estimators': [k]}\n",
    "    rfc = GridSearchCV(rfc_pipe, estimator_param, scoring='f1_weighted', cv=5, n_jobs = -1, error_score='raise')\n",
    "    rfc.fit(train_features, train_labels)\n",
    "    train_scores.append(rfc.best_score_)"
   ]
  },
  {
   "cell_type": "code",
   "execution_count": null,
   "id": "85dfc9da-129d-4c99-9021-7fda1c71b01a",
   "metadata": {},
   "outputs": [],
   "source": [
    "# for k in range(26, 50):\n",
    "#     estimator_param = {'RFC__n_estimators': [k]}\n",
    "#     rfc = GridSearchCV(rfc_pipe, estimator_param, scoring='f1_weighted', cv=5, n_jobs = -1, error_score='raise')\n",
    "#     rfc.fit(train_features, train_labels)\n",
    "#     train_scores.append(rfc.best_score_)"
   ]
  },
  {
   "cell_type": "code",
   "execution_count": null,
   "id": "7b3ddda3-db16-413d-aa89-eb9c34edb24c",
   "metadata": {},
   "outputs": [],
   "source": [
    "# for k in range(51, 75):\n",
    "#     estimator_param = {'RFC__n_estimators': [k]}\n",
    "#     rfc = GridSearchCV(rfc_pipe, estimator_param, scoring='f1_weighted', cv=5, n_jobs = -1, error_score='raise')\n",
    "#     rfc.fit(train_features, train_labels)\n",
    "#     train_scores.append(rfc.best_score_)"
   ]
  },
  {
   "cell_type": "code",
   "execution_count": null,
   "id": "ea156379-84a7-435d-81d0-6bd13bdf288d",
   "metadata": {},
   "outputs": [],
   "source": [
    "# for k in range(76, 100):\n",
    "#     estimator_param = {'RFC__n_estimators': [k]}\n",
    "#     rfc = GridSearchCV(rfc_pipe, estimator_param, scoring='f1_weighted', cv=5, n_jobs = -1, error_score='raise')\n",
    "#     rfc.fit(train_features, train_labels)\n",
    "#     train_scores.append(rfc.best_score_)"
   ]
  },
  {
   "cell_type": "code",
   "execution_count": null,
   "id": "8fa7c5ef-49af-434f-9355-e0fc658b7db9",
   "metadata": {},
   "outputs": [],
   "source": [
    "for k in range(101, 201):\n",
    "    estimator_param = {'RFC__n_estimators': [k]}\n",
    "    rfc = GridSearchCV(rfc_pipe, estimator_param, scoring='f1_weighted', cv=5, n_jobs = -1, error_score='raise')\n",
    "    rfc.fit(train_features, train_labels)\n",
    "    train_scores.append(rfc.best_score_)"
   ]
  },
  {
   "cell_type": "code",
   "execution_count": 7,
   "id": "8ecac5ca-1b75-4b1f-b250-881f8cc3ba0c",
   "metadata": {},
   "outputs": [
    {
     "data": {
      "text/plain": [
       "Text(0, 0.5, 'Training Score (f1_weighted)')"
      ]
     },
     "execution_count": 7,
     "metadata": {},
     "output_type": "execute_result"
    },
    {
     "data": {
      "image/png": "[encoded data removed]",
      "text/plain": [
       "<Figure size 432x288 with 1 Axes>"
      ]
     },
     "metadata": {
      "needs_background": "light"
     },
     "output_type": "display_data"
    }
   ],
   "source": [
    "import matplotlib.pyplot as plt\n",
    "%matplotlib inline\n",
    "\n",
    "# plot the relationship between n_estimators and training score\n",
    "# plt.plot(x_axis, y_axis)\n",
    "plt.plot(range(1, 101), train_scores)\n",
    "plt.xlabel('Value of n_estimators for Random Forest Classifier')\n",
    "plt.ylabel('Training Score (f1_weighted)')"
   ]
  },
  {
   "cell_type": "code",
   "execution_count": null,
   "id": "a4bbcc4f-9a2c-40eb-b241-2dc4bff27aee",
   "metadata": {},
   "outputs": [],
   "source": [
    "# https://towardsdatascience.com/random-forest-classification-678e551462f5"
   ]
  },
  {
   "cell_type": "code",
   "execution_count": 10,
   "id": "cbe1d0a9-c679-45dc-8082-bfda4a51c059",
   "metadata": {},
   "outputs": [
    {
     "name": "stdout",
     "output_type": "stream",
     "text": [
      "0.9975955707035095\n"
     ]
    }
   ],
   "source": [
    "print(train_scores[99])\n",
    "\n",
    "# 0.9975955707035095"
   ]
  },
  {
   "cell_type": "code",
   "execution_count": null,
   "id": "76296905-e853-467a-bb77-a049ff6a8cdb",
   "metadata": {},
   "outputs": [],
   "source": []
  }
 ],
 "metadata": {
  "kernelspec": {
   "display_name": "Python 3.8",
   "language": "python",
   "name": "python3"
  },
  "language_info": {
   "codemirror_mode": {
    "name": "ipython",
    "version": 3
   },
   "file_extension": ".py",
   "mimetype": "text/x-python",
   "name": "python",
   "nbconvert_exporter": "python",
   "pygments_lexer": "ipython3",
   "version": "3.8.6"
  }
 },
 "nbformat": 4,
 "nbformat_minor": 5
}
