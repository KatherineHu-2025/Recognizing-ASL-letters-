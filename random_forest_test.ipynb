{
 "cells": [
  {
   "cell_type": "code",
   "execution_count": 1,
   "id": "d7991f2a-1500-4509-9bd3-07369f28858c",
   "metadata": {},
   "outputs": [],
   "source": [
    "import pandas as pd\n",
    "from sklearn.preprocessing import MinMaxScaler\n",
    "from sklearn.pipeline import Pipeline\n",
    "from sklearn.model_selection import GridSearchCV\n",
    "\n",
    "train_df = pd.read_csv('sign_mnist_train.csv')\n",
    "test_df = pd.read_csv('sign_mnist_test.csv')"
   ]
  },
  {
   "cell_type": "code",
   "execution_count": 2,
   "id": "1c798d1c-5588-4f07-b63e-3b825cf59186",
   "metadata": {},
   "outputs": [],
   "source": [
    "train_features = train_df.iloc[:,train_df.columns != 'label']\n",
    "train_labels = train_df.iloc[:,train_df.columns == 'label']\n",
    "train_labels = train_labels.values.reshape(-1)\n",
    "\n",
    "test_features = test_df.iloc[:,test_df.columns != 'label']\n",
    "test_labels = test_df.iloc[:,test_df.columns == 'label']\n",
    "test_labels = test_labels.values.reshape(-1)"
   ]
  },
  {
   "cell_type": "code",
   "execution_count": 3,
   "id": "73bd90bb-1fb3-42ab-980c-43694d0a30d9",
   "metadata": {},
   "outputs": [],
   "source": [
    "def pretty_print(image_example):\n",
    "    \"\"\" Pretty prints a Sign Language MNIST example. Code taken from Fashion MNIST Homework.\n",
    "\n",
    "    Parameters:\n",
    "        image_example: a 1x784 numpy array corresponding to the features of\n",
    "                       a single image.\n",
    "\n",
    "    Returns:\n",
    "        None.\n",
    "    \"\"\"\n",
    "    print(np.array_str(image_example, precision=1, max_line_width=116))"
   ]
  },
  {
   "cell_type": "code",
   "execution_count": 4,
   "id": "d320b888-4321-4940-9d58-4a4406111cd2",
   "metadata": {},
   "outputs": [
    {
     "name": "stdout",
     "output_type": "stream",
     "text": [
      "Dimensions of training set feature matrix: (27455, 784)\n",
      "Dimensions of training set label matrix: (27455,)\n",
      "[173 175 176 176 176 176 176 176 175 175 175 173 174 173 173 173 172 171 171 171 170 169 168 169 167 166 164 164\n",
      " 175 175 177 177 177 177 177 176 176 176 176 175 176 174 174 174 173 172 172 172 171 171 169 170 168 166 165 165\n",
      " 177 177 177 177 178 178 177 177 177 176 177 176 176 176 175 174 173 173 173 172 171 171 170 170 169 167 167 165\n",
      " 178 178 178 178 178 178 179 179 179 178 177 177 176 176 176 174 174 174 174 173 171 171 171 170 170 169 168 167\n",
      " 178 180 180 180 180 180 180 181 180 178 178 178 178 176 176 176 176 175 174 172 172 172 173 171 171 169 169 168\n",
      " 181 181 181 181 181 181 180 180 181 179 179 179 178 178 178 177 176 176 175 173 173 172 173 172 172 170 170 168\n",
      " 181 182 182 182 182 182 181 181 182 182 181 179 179 179 178 178 177 177 177 176 176 176 173 171 172 172 170 169\n",
      " 183 183 184 183 182 183 183 183 182 182 182 182 182 182 182 181 180 177 174 171 168 157 152 181 173 166 173 170\n",
      " 184 183 183 184 186 185 184 184 184 186 185 183 177 171 166 160 162 164 163 154 155 144 149 189 159 147 177 171\n",
      " 185 185 186 186 186 187 184 182 169 160 161 165 161 151 140 134 143 157 160 150 143 137 127 139 134 161 174 171\n",
      " 186 187 187 188 189 186 179 172 155 146 140 121 149 154 148 126 127 134 123 117 104 106 120 142 165 176 172 172\n",
      " 188 187 188 188 185 169 163 167 165 165 144  96  93 109 105  92 100 105 121 132 150 169 176 180 178 177 174 173\n",
      " 188 189 184 176 169 160 158 160 167 160 118  89  76  69  78 101 135 169 181 184 185 182 179 178 177 177 175 174\n",
      " 188 181 172 167 162 160 152 153 160 152 133  91  77  83 156 176 189 187 183 183 182 181 180 180 177 177 176 175\n",
      " 179 173 167 162 158 157 153 154 156 158 152 112  80  74 158 195 184 185 185 184 182 182 181 180 179 177 176 175\n",
      " 181 173 165 160 159 159 156 155 158 159 152 113  82  73  90 190 187 187 186 185 184 183 183 181 181 180 177 176\n",
      " 180 172 168 162 160 159 158 154 156 156 153 128  84  79  71 152 197 186 187 187 186 184 183 182 182 181 178 177\n",
      " 174 169 169 163 160 159 161 161 162 164 160 135  89  78  72  99 196 187 189 188 187 186 185 183 183 181 180 179\n",
      " 168 173 164 161 161 157 159 152 150 152 144 121  92  81  69 102 196 189 189 188 187 186 187 184 183 183 182 180\n",
      " 166 161 160 162 166 160 153 146 140 139 129 111  97  85  70 166 196 190 190 189 187 187 187 186 185 183 181 180\n",
      " 164 152 156 162 164 161 152 146 137 140 128 104  99  94  70 173 198 191 192 190 188 188 188 186 186 184 182 181\n",
      " 147 142 151 156 154 151 142 133 122 121 106  97  97 103  69 134 204 191 192 190 189 188 188 187 187 185 183 181\n",
      " 123 126 140 145 142 131 122 114 105  88  71  83 102 101  65 145 203 192 193 191 191 191 189 188 187 187 184 182\n",
      "  75  94 112 128 124 110  97  88  82  80  73  94  95  96 141 194 195 195 194 193 192 192 191 188 187 187 186 184\n",
      "  55  45  57  74  86  92 103 125 119  94  87 101 125 173 203 197 195 195 193 193 192 190 190 189 188 186 186 184\n",
      "  64  45  36  41  31  96 201 201 201 185 174 179 198 200 194 195 194 193 193 192 192 191 190 189 187 186 184 184\n",
      "  63  53  35  40  41 176 206 197 199 203 204 202 198 196 197 195 194 195 194 193 193 192 190 189 188 186 184 184\n",
      "  62  54  38  29  95 212 198 200 199 199 199 199 199 198 198 197 195 195 194 193 194 192 191 189 188 188 185 184]\n"
     ]
    },
    {
     "data": {
      "image/png": "[encoded data removed]",
      "text/plain": [
       "<Figure size 432x288 with 1 Axes>"
      ]
     },
     "metadata": {
      "needs_background": "light"
     },
     "output_type": "display_data"
    }
   ],
   "source": [
    "import gzip\n",
    "import numpy as np\n",
    "import matplotlib.pyplot as plt\n",
    "\n",
    "print(\"Dimensions of training set feature matrix:\", train_features.shape)\n",
    "print(\"Dimensions of training set label matrix:\", train_labels.shape)\n",
    "\n",
    "EXAMPLE_INDEX = np.random.randint(27455)\n",
    "pretty_print(train_features.iloc[EXAMPLE_INDEX].values)\n",
    "\n",
    "plt.figure()\n",
    "plt.imshow(train_features.iloc[EXAMPLE_INDEX].values.reshape(28,28),cmap='gray', vmin=0, vmax=255)\n",
    "plt.show()"
   ]
  },
  {
   "cell_type": "code",
   "execution_count": 5,
   "id": "e13a69e4-17b9-443e-80ff-664093113287",
   "metadata": {},
   "outputs": [],
   "source": [
    "from sklearn.ensemble import RandomForestClassifier\n",
    "from sklearn.pipeline import make_pipeline\n",
    "from sklearn.preprocessing import MinMaxScaler\n",
    "from sklearn.model_selection import GridSearchCV\n",
    "from sklearn.metrics import f1_score"
   ]
  },
  {
   "cell_type": "code",
   "execution_count": null,
   "id": "6f222c75-244e-4fee-9f38-5fb756345bb2",
   "metadata": {},
   "outputs": [],
   "source": [
    "# rfc_pipe = Pipeline([\n",
    "#         ('scaler', MinMaxScaler()),\n",
    "#         ('RFC', RandomForestClassifier(n_jobs = -1))\n",
    "#         ])\n",
    "\n",
    "# # other params are set to reasonable measures\n",
    "\n",
    "# rfc_param_grid = {'RFC__n_estimators': [100,500,1000,1500,2000]}\n",
    "\n",
    "# rfc = GridSearchCV(rfc_pipe, rfc_param_grid, scoring='f1_weighted', cv=5, n_jobs = -1, error_score='raise')\n",
    "# rfc.fit(train_features,train_labels)\n",
    "# print(rfc.best_params_)\n",
    "# print(rfc.best_score_)\n",
    "\n",
    "# # generate a curve that gives performance on y axis"
   ]
  },
  {
   "cell_type": "code",
   "execution_count": null,
   "id": "9fea6667-a80f-4584-971c-914b2b5c3478",
   "metadata": {},
   "outputs": [],
   "source": [
    "# from sklearn.ensemble import RandomForestClassifier\n",
    "# from sklearn.metrics import accuracy_score\n",
    "# scores =[]\n",
    "# for k in range(1, 200):\n",
    "#     rfc = RandomForestClassifier(n_estimators=k)\n",
    "#     rfc.fit(x_train, y_train)\n",
    "#     y_pred = rfc.predict(x_test)\n",
    "#     scores.append(accuracy_score(y_test, y_pred))\n",
    "\n",
    "# import matplotlib.pyplot as plt\n",
    "# %matplotlib inline\n",
    "\n",
    "# # plot the relationship between K and testing accuracy\n",
    "# # plt.plot(x_axis, y_axis)\n",
    "# plt.plot(range(1, 200), scores)\n",
    "# plt.xlabel('Value of n_estimators for Random Forest Classifier')\n",
    "# plt.ylabel('Testing Accuracy')"
   ]
  },
  {
   "cell_type": "code",
   "execution_count": 6,
   "id": "a898e56f-39fd-448f-9761-12db507378d9",
   "metadata": {},
   "outputs": [],
   "source": [
    "train_scores = []\n",
    "\n",
    "rfc_pipe = Pipeline([\n",
    "        ('scaler', MinMaxScaler()),\n",
    "        ('RFC', RandomForestClassifier(n_jobs = -1))\n",
    "        ])\n",
    "for k in range(1, 101):\n",
    "    estimator_param = {'RFC__n_estimators': [k]}\n",
    "    rfc = GridSearchCV(rfc_pipe, estimator_param, scoring='f1_weighted', cv=5, n_jobs = -1, error_score='raise')\n",
    "    rfc.fit(train_features, train_labels)\n",
    "    train_scores.append(rfc.best_score_)"
   ]
  },
  {
   "cell_type": "code",
   "execution_count": 12,
   "id": "8fa7c5ef-49af-434f-9355-e0fc658b7db9",
   "metadata": {},
   "outputs": [],
   "source": [
    "for k in range(101, 151):\n",
    "    estimator_param = {'RFC__n_estimators': [k]}\n",
    "    rfc = GridSearchCV(rfc_pipe, estimator_param, scoring='f1_weighted', cv=5, n_jobs = -1, error_score='raise')\n",
    "    rfc.fit(train_features, train_labels)\n",
    "    train_scores.append(rfc.best_score_)"
   ]
  },
  {
   "cell_type": "code",
   "execution_count": 15,
   "id": "8ecac5ca-1b75-4b1f-b250-881f8cc3ba0c",
   "metadata": {},
   "outputs": [
    {
     "data": {
      "text/plain": [
       "Text(0, 0.5, 'Training Score (f1_weighted)')"
      ]
     },
     "execution_count": 15,
     "metadata": {},
     "output_type": "execute_result"
    },
    {
     "data": {
      "image/png": "[encoded data removed]",
      "text/plain": [
       "<Figure size 432x288 with 1 Axes>"
      ]
     },
     "metadata": {
      "needs_background": "light"
     },
     "output_type": "display_data"
    }
   ],
   "source": [
    "import matplotlib.pyplot as plt\n",
    "%matplotlib inline\n",
    "\n",
    "# plot the relationship between n_estimators and training score\n",
    "# plt.plot(x_axis, y_axis)\n",
    "plt.plot(range(1, 151), train_scores)\n",
    "plt.xlabel('Value of n_estimators for Random Forest Classifier')\n",
    "plt.ylabel('Training Score (f1_weighted)')"
   ]
  },
  {
   "cell_type": "code",
   "execution_count": null,
   "id": "a4bbcc4f-9a2c-40eb-b241-2dc4bff27aee",
   "metadata": {},
   "outputs": [],
   "source": [
    "# https://towardsdatascience.com/random-forest-classification-678e551462f5"
   ]
  },
  {
   "cell_type": "code",
   "execution_count": 10,
   "id": "cbe1d0a9-c679-45dc-8082-bfda4a51c059",
   "metadata": {},
   "outputs": [
    {
     "name": "stdout",
     "output_type": "stream",
     "text": [
      "0.9975955707035095\n"
     ]
    }
   ],
   "source": [
    "print(train_scores[99])\n",
    "\n",
    "# 0.9975955707035095"
   ]
  },
  {
   "cell_type": "code",
   "execution_count": 11,
   "id": "76296905-e853-467a-bb77-a049ff6a8cdb",
   "metadata": {},
   "outputs": [
    {
     "name": "stdout",
     "output_type": "stream",
     "text": [
      "0.9975955707035095\n"
     ]
    }
   ],
   "source": [
    "print(train_scores[99])"
   ]
  },
  {
   "cell_type": "code",
   "execution_count": 16,
   "id": "da623eb2-2603-4515-b1cd-2f5ed68a79d3",
   "metadata": {},
   "outputs": [
    {
     "name": "stdout",
     "output_type": "stream",
     "text": [
      "0.9978139032478406\n"
     ]
    }
   ],
   "source": [
    "print(train_scores[149])\n",
    "\n",
    "# 0.9978139032478406"
   ]
  },
  {
   "cell_type": "code",
   "execution_count": 17,
   "id": "11c3367e-cce2-4795-9d69-c8086520cf00",
   "metadata": {},
   "outputs": [
    {
     "ename": "IndexError",
     "evalue": "list index out of range",
     "output_type": "error",
     "traceback": [
      "\u001b[0;31m---------------------------------------------------------------------------\u001b[0m",
      "\u001b[0;31mIndexError\u001b[0m                                Traceback (most recent call last)",
      "Input \u001b[0;32mIn [17]\u001b[0m, in \u001b[0;36m<cell line: 1>\u001b[0;34m()\u001b[0m\n\u001b[0;32m----> 1\u001b[0m \u001b[38;5;28mprint\u001b[39m(\u001b[43mtrain_scores\u001b[49m\u001b[43m[\u001b[49m\u001b[38;5;241;43m150\u001b[39;49m\u001b[43m]\u001b[49m)\n",
      "\u001b[0;31mIndexError\u001b[0m: list index out of range"
     ]
    }
   ],
   "source": [
    "print(train_scores[150])"
   ]
  },
  {
   "cell_type": "code",
   "execution_count": 18,
   "id": "4245ec02-8ac9-4b78-9e2b-a63e5ef3bef7",
   "metadata": {},
   "outputs": [
    {
     "name": "stdout",
     "output_type": "stream",
     "text": [
      "[0.8093030005072459, 0.8025822854271013, 0.8945794437536634, 0.9323009108452917, 0.9533425124470826, 0.9642850499159359, 0.9711437680772772, 0.9761517018262683, 0.9777468584908234, 0.9813451491867218, 0.9838212880511407, 0.986308724631791, 0.9867038944318965, 0.9887750905263661, 0.9889227070088072, 0.9888854473505402, 0.9899795122272523, 0.9916238841270673, 0.9903813065206114, 0.9918730733502905, 0.9926390820697721, 0.9931856392407109, 0.9932603737608865, 0.993404113300407, 0.9932596900820213, 0.9936963026250704, 0.9934419292444263, 0.9932238648211454, 0.9943179609039614, 0.9942765805697846, 0.994426862556038, 0.9943525662971877, 0.9941001998108634, 0.9948994228122903, 0.9944219652558731, 0.9955919897579826, 0.9948271103779017, 0.995152143414867, 0.9955180562741637, 0.9955181699515887, 0.9954466254164552, 0.9955918247695591, 0.995481773224897, 0.9957365735224268, 0.9963567314868875, 0.9957734624852363, 0.9956652758389227, 0.9956273592758247, 0.9958105482752899, 0.995956156155839, 0.9960647191078722, 0.9959197027184524, 0.996649554136337, 0.996246276804821, 0.996466854747559, 0.9958833813565244, 0.9967565234281878, 0.9963195726461459, 0.9965752768382503, 0.9967950089680893, 0.9962838155376413, 0.9962463923989645, 0.9967572747262656, 0.9965744294431967, 0.9960667221777186, 0.9963930827602738, 0.9964297087433917, 0.9962483983276302, 0.9967943244317556, 0.9968678698600206, 0.9963567159151989, 0.9970497537522232, 0.9966488236524048, 0.9966827611552288, 0.9968668847237913, 0.996721442072505, 0.9963926573056249, 0.996647799160806, 0.9969028432301739, 0.9966847762564569, 0.9973044326675324, 0.9969752527314537, 0.9966840587610768, 0.9973407926791937, 0.9967574695022174, 0.9968672252238638, 0.9970861457495104, 0.9971577536762452, 0.9970118690181202, 0.9970851574198892, 0.9970488305871339, 0.9973037124435873, 0.9971211589618612, 0.9968672934337185, 0.9966135755859448, 0.9973402199550779, 0.9973403262165685, 0.9973042742062332, 0.996758116513728, 0.9975955707035095, 0.997194507789944, 0.997413366313747, 0.9969046279480583, 0.996939710420339, 0.9971579762117597, 0.9973042629812088, 0.9970858438587783, 0.9973761881379835, 0.9971951462345121, 0.9968296781496375, 0.9971944815379397, 0.9972670703483587, 0.9975961387395511, 0.99777730369821, 0.9970861574624419, 0.9972299462917146, 0.9973048615755923, 0.9974853037039224, 0.997304286270742, 0.9971584301495773, 0.9972674448088459, 0.9973774338963628, 0.9970492701123908, 0.9974123600365917, 0.9975587074677597, 0.9972313781831881, 0.9968295766168481, 0.9972672346044732, 0.9977047658851734, 0.9969390214369882, 0.997449491700999, 0.9971221663966474, 0.9974861071395094, 0.9971943394531572, 0.9978137751486112, 0.9975586420360305, 0.997231281430146, 0.9975585605141551, 0.9968673361163976, 0.9975960390377686, 0.9973766300822419, 0.9975590053834955, 0.9977778047277738, 0.9976311001384387, 0.9971949738212468, 0.9977398945979615, 0.9973040438354783, 0.9976684392971066, 0.9975223361474812, 0.9978139032478406]\n"
     ]
    }
   ],
   "source": [
    "print(train_scores)"
   ]
  },
  {
   "cell_type": "code",
   "execution_count": 20,
   "id": "5c1e4827-38a1-4856-91d8-e3e9d43abeac",
   "metadata": {},
   "outputs": [
    {
     "name": "stdout",
     "output_type": "stream",
     "text": [
      "n estimators:  0  score:  0.8093030005072459\n",
      "n estimators:  1  score:  0.8025822854271013\n",
      "n estimators:  2  score:  0.8945794437536634\n",
      "n estimators:  3  score:  0.9323009108452917\n",
      "n estimators:  4  score:  0.9533425124470826\n",
      "n estimators:  5  score:  0.9642850499159359\n",
      "n estimators:  6  score:  0.9711437680772772\n",
      "n estimators:  7  score:  0.9761517018262683\n",
      "n estimators:  8  score:  0.9777468584908234\n",
      "n estimators:  9  score:  0.9813451491867218\n",
      "n estimators:  10  score:  0.9838212880511407\n",
      "n estimators:  11  score:  0.986308724631791\n",
      "n estimators:  12  score:  0.9867038944318965\n",
      "n estimators:  13  score:  0.9887750905263661\n",
      "n estimators:  14  score:  0.9889227070088072\n",
      "n estimators:  15  score:  0.9888854473505402\n",
      "n estimators:  16  score:  0.9899795122272523\n",
      "n estimators:  17  score:  0.9916238841270673\n",
      "n estimators:  18  score:  0.9903813065206114\n",
      "n estimators:  19  score:  0.9918730733502905\n",
      "n estimators:  20  score:  0.9926390820697721\n",
      "n estimators:  21  score:  0.9931856392407109\n",
      "n estimators:  22  score:  0.9932603737608865\n",
      "n estimators:  23  score:  0.993404113300407\n",
      "n estimators:  24  score:  0.9932596900820213\n",
      "n estimators:  25  score:  0.9936963026250704\n",
      "n estimators:  26  score:  0.9934419292444263\n",
      "n estimators:  27  score:  0.9932238648211454\n",
      "n estimators:  28  score:  0.9943179609039614\n",
      "n estimators:  29  score:  0.9942765805697846\n",
      "n estimators:  30  score:  0.994426862556038\n",
      "n estimators:  31  score:  0.9943525662971877\n",
      "n estimators:  32  score:  0.9941001998108634\n",
      "n estimators:  33  score:  0.9948994228122903\n",
      "n estimators:  34  score:  0.9944219652558731\n",
      "n estimators:  35  score:  0.9955919897579826\n",
      "n estimators:  36  score:  0.9948271103779017\n",
      "n estimators:  37  score:  0.995152143414867\n",
      "n estimators:  38  score:  0.9955180562741637\n",
      "n estimators:  39  score:  0.9955181699515887\n",
      "n estimators:  40  score:  0.9954466254164552\n",
      "n estimators:  41  score:  0.9955918247695591\n",
      "n estimators:  42  score:  0.995481773224897\n",
      "n estimators:  43  score:  0.9957365735224268\n",
      "n estimators:  44  score:  0.9963567314868875\n",
      "n estimators:  45  score:  0.9957734624852363\n",
      "n estimators:  46  score:  0.9956652758389227\n",
      "n estimators:  47  score:  0.9956273592758247\n",
      "n estimators:  48  score:  0.9958105482752899\n",
      "n estimators:  49  score:  0.995956156155839\n",
      "n estimators:  50  score:  0.9960647191078722\n",
      "n estimators:  51  score:  0.9959197027184524\n",
      "n estimators:  52  score:  0.996649554136337\n",
      "n estimators:  53  score:  0.996246276804821\n",
      "n estimators:  54  score:  0.996466854747559\n",
      "n estimators:  55  score:  0.9958833813565244\n",
      "n estimators:  56  score:  0.9967565234281878\n",
      "n estimators:  57  score:  0.9963195726461459\n",
      "n estimators:  58  score:  0.9965752768382503\n",
      "n estimators:  59  score:  0.9967950089680893\n",
      "n estimators:  60  score:  0.9962838155376413\n",
      "n estimators:  61  score:  0.9962463923989645\n",
      "n estimators:  62  score:  0.9967572747262656\n",
      "n estimators:  63  score:  0.9965744294431967\n",
      "n estimators:  64  score:  0.9960667221777186\n",
      "n estimators:  65  score:  0.9963930827602738\n",
      "n estimators:  66  score:  0.9964297087433917\n",
      "n estimators:  67  score:  0.9962483983276302\n",
      "n estimators:  68  score:  0.9967943244317556\n",
      "n estimators:  69  score:  0.9968678698600206\n",
      "n estimators:  70  score:  0.9963567159151989\n",
      "n estimators:  71  score:  0.9970497537522232\n",
      "n estimators:  72  score:  0.9966488236524048\n",
      "n estimators:  73  score:  0.9966827611552288\n",
      "n estimators:  74  score:  0.9968668847237913\n",
      "n estimators:  75  score:  0.996721442072505\n",
      "n estimators:  76  score:  0.9963926573056249\n",
      "n estimators:  77  score:  0.996647799160806\n",
      "n estimators:  78  score:  0.9969028432301739\n",
      "n estimators:  79  score:  0.9966847762564569\n",
      "n estimators:  80  score:  0.9973044326675324\n",
      "n estimators:  81  score:  0.9969752527314537\n",
      "n estimators:  82  score:  0.9966840587610768\n",
      "n estimators:  83  score:  0.9973407926791937\n",
      "n estimators:  84  score:  0.9967574695022174\n",
      "n estimators:  85  score:  0.9968672252238638\n",
      "n estimators:  86  score:  0.9970861457495104\n",
      "n estimators:  87  score:  0.9971577536762452\n",
      "n estimators:  88  score:  0.9970118690181202\n",
      "n estimators:  89  score:  0.9970851574198892\n",
      "n estimators:  90  score:  0.9970488305871339\n",
      "n estimators:  91  score:  0.9973037124435873\n",
      "n estimators:  92  score:  0.9971211589618612\n",
      "n estimators:  93  score:  0.9968672934337185\n",
      "n estimators:  94  score:  0.9966135755859448\n",
      "n estimators:  95  score:  0.9973402199550779\n",
      "n estimators:  96  score:  0.9973403262165685\n",
      "n estimators:  97  score:  0.9973042742062332\n",
      "n estimators:  98  score:  0.996758116513728\n",
      "n estimators:  99  score:  0.9975955707035095\n",
      "n estimators:  100  score:  0.997194507789944\n",
      "n estimators:  101  score:  0.997413366313747\n",
      "n estimators:  102  score:  0.9969046279480583\n",
      "n estimators:  103  score:  0.996939710420339\n",
      "n estimators:  104  score:  0.9971579762117597\n",
      "n estimators:  105  score:  0.9973042629812088\n",
      "n estimators:  106  score:  0.9970858438587783\n",
      "n estimators:  107  score:  0.9973761881379835\n",
      "n estimators:  108  score:  0.9971951462345121\n",
      "n estimators:  109  score:  0.9968296781496375\n",
      "n estimators:  110  score:  0.9971944815379397\n",
      "n estimators:  111  score:  0.9972670703483587\n",
      "n estimators:  112  score:  0.9975961387395511\n",
      "n estimators:  113  score:  0.99777730369821\n",
      "n estimators:  114  score:  0.9970861574624419\n",
      "n estimators:  115  score:  0.9972299462917146\n",
      "n estimators:  116  score:  0.9973048615755923\n",
      "n estimators:  117  score:  0.9974853037039224\n",
      "n estimators:  118  score:  0.997304286270742\n",
      "n estimators:  119  score:  0.9971584301495773\n",
      "n estimators:  120  score:  0.9972674448088459\n",
      "n estimators:  121  score:  0.9973774338963628\n",
      "n estimators:  122  score:  0.9970492701123908\n",
      "n estimators:  123  score:  0.9974123600365917\n",
      "n estimators:  124  score:  0.9975587074677597\n",
      "n estimators:  125  score:  0.9972313781831881\n",
      "n estimators:  126  score:  0.9968295766168481\n",
      "n estimators:  127  score:  0.9972672346044732\n",
      "n estimators:  128  score:  0.9977047658851734\n",
      "n estimators:  129  score:  0.9969390214369882\n",
      "n estimators:  130  score:  0.997449491700999\n",
      "n estimators:  131  score:  0.9971221663966474\n",
      "n estimators:  132  score:  0.9974861071395094\n",
      "n estimators:  133  score:  0.9971943394531572\n",
      "n estimators:  134  score:  0.9978137751486112\n",
      "n estimators:  135  score:  0.9975586420360305\n",
      "n estimators:  136  score:  0.997231281430146\n",
      "n estimators:  137  score:  0.9975585605141551\n",
      "n estimators:  138  score:  0.9968673361163976\n",
      "n estimators:  139  score:  0.9975960390377686\n",
      "n estimators:  140  score:  0.9973766300822419\n",
      "n estimators:  141  score:  0.9975590053834955\n",
      "n estimators:  142  score:  0.9977778047277738\n",
      "n estimators:  143  score:  0.9976311001384387\n",
      "n estimators:  144  score:  0.9971949738212468\n",
      "n estimators:  145  score:  0.9977398945979615\n",
      "n estimators:  146  score:  0.9973040438354783\n",
      "n estimators:  147  score:  0.9976684392971066\n",
      "n estimators:  148  score:  0.9975223361474812\n",
      "n estimators:  149  score:  0.9978139032478406\n"
     ]
    }
   ],
   "source": [
    "for i in range(150):\n",
    "    print(\"n estimators: \", i, \" score: \", train_scores[i])"
   ]
  },
  {
   "cell_type": "code",
   "execution_count": 25,
   "id": "38f3bec4-1b18-4e75-b34a-86ba4540e27e",
   "metadata": {},
   "outputs": [
    {
     "data": {
      "text/html": [
       "<style>#sk-container-id-2 {color: black;background-color: white;}#sk-container-id-2 pre{padding: 0;}#sk-container-id-2 div.sk-toggleable {background-color: white;}#sk-container-id-2 label.sk-toggleable__label {cursor: pointer;display: block;width: 100%;margin-bottom: 0;padding: 0.3em;box-sizing: border-box;text-align: center;}#sk-container-id-2 label.sk-toggleable__label-arrow:before {content: \"▸\";float: left;margin-right: 0.25em;color: #696969;}#sk-container-id-2 label.sk-toggleable__label-arrow:hover:before {color: black;}#sk-container-id-2 div.sk-estimator:hover label.sk-toggleable__label-arrow:before {color: black;}#sk-container-id-2 div.sk-toggleable__content {max-height: 0;max-width: 0;overflow: hidden;text-align: left;background-color: #f0f8ff;}#sk-container-id-2 div.sk-toggleable__content pre {margin: 0.2em;color: black;border-radius: 0.25em;background-color: #f0f8ff;}#sk-container-id-2 input.sk-toggleable__control:checked~div.sk-toggleable__content {max-height: 200px;max-width: 100%;overflow: auto;}#sk-container-id-2 input.sk-toggleable__control:checked~label.sk-toggleable__label-arrow:before {content: \"▾\";}#sk-container-id-2 div.sk-estimator input.sk-toggleable__control:checked~label.sk-toggleable__label {background-color: #d4ebff;}#sk-container-id-2 div.sk-label input.sk-toggleable__control:checked~label.sk-toggleable__label {background-color: #d4ebff;}#sk-container-id-2 input.sk-hidden--visually {border: 0;clip: rect(1px 1px 1px 1px);clip: rect(1px, 1px, 1px, 1px);height: 1px;margin: -1px;overflow: hidden;padding: 0;position: absolute;width: 1px;}#sk-container-id-2 div.sk-estimator {font-family: monospace;background-color: #f0f8ff;border: 1px dotted black;border-radius: 0.25em;box-sizing: border-box;margin-bottom: 0.5em;}#sk-container-id-2 div.sk-estimator:hover {background-color: #d4ebff;}#sk-container-id-2 div.sk-parallel-item::after {content: \"\";width: 100%;border-bottom: 1px solid gray;flex-grow: 1;}#sk-container-id-2 div.sk-label:hover label.sk-toggleable__label {background-color: #d4ebff;}#sk-container-id-2 div.sk-serial::before {content: \"\";position: absolute;border-left: 1px solid gray;box-sizing: border-box;top: 0;bottom: 0;left: 50%;z-index: 0;}#sk-container-id-2 div.sk-serial {display: flex;flex-direction: column;align-items: center;background-color: white;padding-right: 0.2em;padding-left: 0.2em;position: relative;}#sk-container-id-2 div.sk-item {position: relative;z-index: 1;}#sk-container-id-2 div.sk-parallel {display: flex;align-items: stretch;justify-content: center;background-color: white;position: relative;}#sk-container-id-2 div.sk-item::before, #sk-container-id-2 div.sk-parallel-item::before {content: \"\";position: absolute;border-left: 1px solid gray;box-sizing: border-box;top: 0;bottom: 0;left: 50%;z-index: -1;}#sk-container-id-2 div.sk-parallel-item {display: flex;flex-direction: column;z-index: 1;position: relative;background-color: white;}#sk-container-id-2 div.sk-parallel-item:first-child::after {align-self: flex-end;width: 50%;}#sk-container-id-2 div.sk-parallel-item:last-child::after {align-self: flex-start;width: 50%;}#sk-container-id-2 div.sk-parallel-item:only-child::after {width: 0;}#sk-container-id-2 div.sk-dashed-wrapped {border: 1px dashed gray;margin: 0 0.4em 0.5em 0.4em;box-sizing: border-box;padding-bottom: 0.4em;background-color: white;}#sk-container-id-2 div.sk-label label {font-family: monospace;font-weight: bold;display: inline-block;line-height: 1.2em;}#sk-container-id-2 div.sk-label-container {text-align: center;}#sk-container-id-2 div.sk-container {/* jupyter's `normalize.less` sets `[hidden] { display: none; }` but bootstrap.min.css set `[hidden] { display: none !important; }` so we also need the `!important` here to be able to override the default hidden behavior on the sphinx rendered scikit-learn.org. See: https://github.com/scikit-learn/scikit-learn/issues/21755 */display: inline-block !important;position: relative;}#sk-container-id-2 div.sk-text-repr-fallback {display: none;}</style><div id=\"sk-container-id-2\" class=\"sk-top-container\"><div class=\"sk-text-repr-fallback\"><pre>RandomForestClassifier(n_estimators=200)</pre><b>In a Jupyter environment, please rerun this cell to show the HTML representation or trust the notebook. <br />On GitHub, the HTML representation is unable to render, please try loading this page with nbviewer.org.</b></div><div class=\"sk-container\" hidden><div class=\"sk-item\"><div class=\"sk-estimator sk-toggleable\"><input class=\"sk-toggleable__control sk-hidden--visually\" id=\"sk-estimator-id-2\" type=\"checkbox\" checked><label for=\"sk-estimator-id-2\" class=\"sk-toggleable__label sk-toggleable__label-arrow\">RandomForestClassifier</label><div class=\"sk-toggleable__content\"><pre>RandomForestClassifier(n_estimators=200)</pre></div></div></div></div></div>"
      ],
      "text/plain": [
       "RandomForestClassifier(n_estimators=200)"
      ]
     },
     "execution_count": 25,
     "metadata": {},
     "output_type": "execute_result"
    }
   ],
   "source": [
    "best_rfc = RandomForestClassifier(n_estimators=200)\n",
    "best_rfc.fit(train_features, train_labels)"
   ]
  },
  {
   "cell_type": "code",
   "execution_count": 26,
   "id": "ec2d6f13-0730-46f1-b2d8-d4682851ae1d",
   "metadata": {},
   "outputs": [
    {
     "data": {
      "text/plain": [
       "0.8269323313596375"
      ]
     },
     "execution_count": 26,
     "metadata": {},
     "output_type": "execute_result"
    }
   ],
   "source": [
    "from sklearn.metrics import f1_score\n",
    "\n",
    "f1_score(test_labels, best_rfc.predict(test_features),average = 'weighted')"
   ]
  },
  {
   "cell_type": "code",
   "execution_count": null,
   "id": "774dc624-e4a6-4687-be84-9c14874202c2",
   "metadata": {},
   "outputs": [],
   "source": [
    "# n = 100\n",
    "# 0.8155375718710718\n",
    "\n",
    "# n = 150\n",
    "# 0.8222695344177406\n",
    "\n",
    "# n = 200\n",
    "# 0.8269323313596375\n"
   ]
  }
 ],
 "metadata": {
  "kernelspec": {
   "display_name": "Python 3.8",
   "language": "python",
   "name": "python3"
  },
  "language_info": {
   "codemirror_mode": {
    "name": "ipython",
    "version": 3
   },
   "file_extension": ".py",
   "mimetype": "text/x-python",
   "name": "python",
   "nbconvert_exporter": "python",
   "pygments_lexer": "ipython3",
   "version": "3.8.6"
  }
 },
 "nbformat": 4,
 "nbformat_minor": 5
}
