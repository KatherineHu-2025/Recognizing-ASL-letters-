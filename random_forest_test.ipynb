{
 "cells": [
  {
   "cell_type": "code",
   "execution_count": 1,
   "id": "d7991f2a-1500-4509-9bd3-07369f28858c",
   "metadata": {},
   "outputs": [],
   "source": [
    "import pandas as pd\n",
    "from sklearn.preprocessing import MinMaxScaler\n",
    "from sklearn.pipeline import Pipeline\n",
    "from sklearn.model_selection import GridSearchCV\n",
    "\n",
    "train_df = pd.read_csv('sign_mnist_train.csv')\n",
    "test_df = pd.read_csv('sign_mnist_test.csv')"
   ]
  },
  {
   "cell_type": "code",
   "execution_count": 2,
   "id": "1c798d1c-5588-4f07-b63e-3b825cf59186",
   "metadata": {},
   "outputs": [],
   "source": [
    "train_features = train_df.iloc[:,train_df.columns != 'label']\n",
    "train_labels = train_df.iloc[:,train_df.columns == 'label']\n",
    "train_labels = train_labels.values.reshape(-1)\n",
    "\n",
    "test_features = test_df.iloc[:,test_df.columns != 'label']\n",
    "test_labels = test_df.iloc[:,test_df.columns == 'label']\n",
    "test_labels = test_labels.values.reshape(-1)"
   ]
  },
  {
   "cell_type": "code",
   "execution_count": 3,
   "id": "73bd90bb-1fb3-42ab-980c-43694d0a30d9",
   "metadata": {},
   "outputs": [],
   "source": [
    "def pretty_print(image_example):\n",
    "    \"\"\" Pretty prints a Sign Language MNIST example. Code taken from Fashion MNIST Homework.\n",
    "\n",
    "    Parameters:\n",
    "        image_example: a 1x784 numpy array corresponding to the features of\n",
    "                       a single image.\n",
    "\n",
    "    Returns:\n",
    "        None.\n",
    "    \"\"\"\n",
    "    print(np.array_str(image_example, precision=1, max_line_width=116))"
   ]
  },
  {
   "cell_type": "code",
   "execution_count": 4,
   "id": "d320b888-4321-4940-9d58-4a4406111cd2",
   "metadata": {},
   "outputs": [
    {
     "name": "stdout",
     "output_type": "stream",
     "text": [
      "Dimensions of training set feature matrix: (27455, 784)\n",
      "Dimensions of training set label matrix: (27455,)\n",
      "[ 81  85  89  93  96 101 110 116 122 127 131 133 135 140 143 146 149 151 153 155 157 158 160 160 163 164 163 163\n",
      "  81  87  90  94  96 101 110 115 122 129 132 133 136 141 144 147 149 151 153 156 157 160 161 162 164 164 164 164\n",
      "  81  86  90  95  98 104 112 118 124 131 134 135 137 141 145 149 151 152 153 155 158 161 162 162 163 165 166 166\n",
      "  84  86  91  95  98 106 112 120 126 132 136 138 141 144 147 151 152 154 159 158 158 161 163 165 165 166 167 168\n",
      "  85  88  91  94  99 106 113 121 129 135 138 141 142 145 149 151 157 158 149 155 164 166 165 166 166 167 169 170\n",
      "  87  89  92  96 100 107 116 123 132 136 139 142 141 150 154 159 175 169 133 109 108 159 174 168 169 171 172 171\n",
      "  86  89  93  96 101 109 117 124 133 138 141 135 154 210 180 167 149 131 104  91  76  79 150 178 170 172 176 176\n",
      "  86  89  94  97 101 110 119 127 134 140 140 155 208 206 154 130 112  94  80  78  88  73  67 140 182 172 177 178\n",
      "  88  90  94  97 101 112 120 127 137 135 173 212 198 149 129 117 103  82  72  77  85  79  86  58 150 188 178 180\n",
      "  88  91  95  99 103 113 120 128 138 133 210 202 167 149 109 100  95  74  66  81  72  79 101  70  64 178 183 180\n",
      "  89  92  97 100 105 113 123 131 138 176 196 172 149 115  79  85  89  71  77  85  59  93  97  82  46 103 198 181\n",
      "  89  93  98 100 105 118 123 125 165 190 161 137 113  82  66  83  75  75  93  75  56  99  97  69  66  50 158 195\n",
      "  89  94  98  99 104 110 131 160 159 136 109  96  80  76  68  63  52  57  85  50  61 111  84  81  90  79  81 190\n",
      "  89  94  98 101 103 165 191 153 117 100  77  59  99 163  90  53  58  43  17  23  78 115  78  98 110 106  59 133\n",
      "  91  94  99  96 123 229 161 110  81  63  86 129 208 174 104  69  54  46  18   8  71 105  77 103 116  85  58  78\n",
      "  91  95  99 100 112 173 117  88  91 126 210 201 198 140  95  75  65  65  63   6  46  96  80 142 146 104  70  39\n",
      "  92  96  98 102 107 123 113 162 211 186 212 167 139  95  65  72  77  70  63  42  26  81 113 183 194 190 165 102\n",
      "  92  96  99 102 110 124 124 177 223 141 146 109  68  66  74  73  72  71  59  62  57  53 128 186 201 204 210 199\n",
      "  92  95 100 102 112 125 130 149 158  78  76  82  75  77  77  63  51  48  44  52  61  49  99 186 198 198 204 195\n",
      "  92  95  99 103 112 125 135 145 147 113  94  87  82  67  68  65  49  46  47  40  64  66  58 146 202 183 192 186\n",
      "  93  96 100 103 113 125 135 145 156 167 105  69  71  36   7  41  37  34  17   0  14  14   7  15 101 146 154 146\n",
      "  94  97 101 104 113 125 136 144 157 143  87  74  63  59   2   0   0   0   0   0   0   0   0   0   0 171 188 176\n",
      "  94  96 100 104 115 126 137 146 159 121  78  67  57  56  50   0   0   0   0   0   0   0   0   0  30 214 210 210\n",
      "  94  96 100 103 116 128 140 147 156  93  72  64  58  51  66  12   0   0   0   0   0   0   0   0  56 223 205 209\n",
      "  94  96 100 104 116 129 139 152 146  65  68  69  54  47  59  30   0   0   0   0   0   0   3   0  70 229 206 211\n",
      "  94  97 100 104 115 128 138 158 122  53  63  59  46  42  64  37   0   0   0   0   0   0   5   0  95 230 207 212\n",
      "  94  97 100 104 116 129 140 155 102  65  47  39 143  61  58  26   0   0   0   0   0   0   6   0 138 228 209 213\n",
      "  95  98 100 105 118 129 145 134  87  76  53  33 111 117  47   0   0   0   0   0   0   0   5   0 163 226 212 215]\n"
     ]
    },
    {
     "data": {
      "image/png": "[encoded data removed]",
      "text/plain": [
       "<Figure size 432x288 with 1 Axes>"
      ]
     },
     "metadata": {
      "needs_background": "light"
     },
     "output_type": "display_data"
    }
   ],
   "source": [
    "import gzip\n",
    "import numpy as np\n",
    "import matplotlib.pyplot as plt\n",
    "\n",
    "print(\"Dimensions of training set feature matrix:\", train_features.shape)\n",
    "print(\"Dimensions of training set label matrix:\", train_labels.shape)\n",
    "\n",
    "EXAMPLE_INDEX = np.random.randint(27455)\n",
    "pretty_print(train_features.iloc[EXAMPLE_INDEX].values)\n",
    "\n",
    "plt.figure()\n",
    "plt.imshow(train_features.iloc[EXAMPLE_INDEX].values.reshape(28,28),cmap='gray', vmin=0, vmax=255)\n",
    "plt.show()"
   ]
  },
  {
   "cell_type": "code",
   "execution_count": 5,
   "id": "e13a69e4-17b9-443e-80ff-664093113287",
   "metadata": {},
   "outputs": [],
   "source": [
    "from sklearn.ensemble import RandomForestClassifier\n",
    "from sklearn.pipeline import make_pipeline\n",
    "from sklearn.preprocessing import MinMaxScaler\n",
    "from sklearn.model_selection import GridSearchCV\n",
    "from sklearn.metrics import f1_score"
   ]
  },
  {
   "cell_type": "code",
   "execution_count": 6,
   "id": "6f222c75-244e-4fee-9f38-5fb756345bb2",
   "metadata": {},
   "outputs": [],
   "source": [
    "# rfc_pipe = Pipeline([\n",
    "#         ('scaler', MinMaxScaler()),\n",
    "#         ('RFC', RandomForestClassifier(n_jobs = -1))\n",
    "#         ])\n",
    "\n",
    "# # other params are set to reasonable measures\n",
    "\n",
    "# rfc_param_grid = {'RFC__n_estimators': [100,500,1000,1500,2000]}\n",
    "\n",
    "# rfc = GridSearchCV(rfc_pipe, rfc_param_grid, scoring='f1_weighted', cv=5, n_jobs = -1, error_score='raise')\n",
    "# rfc.fit(train_features,train_labels)\n",
    "# print(rfc.best_params_)\n",
    "# print(rfc.best_score_)\n",
    "\n",
    "# # generate a curve that gives performance on y axis"
   ]
  },
  {
   "cell_type": "code",
   "execution_count": 7,
   "id": "9fea6667-a80f-4584-971c-914b2b5c3478",
   "metadata": {},
   "outputs": [],
   "source": [
    "# from sklearn.ensemble import RandomForestClassifier\n",
    "# from sklearn.metrics import accuracy_score\n",
    "# scores =[]\n",
    "# for k in range(1, 200):\n",
    "#     rfc = RandomForestClassifier(n_estimators=k)\n",
    "#     rfc.fit(x_train, y_train)\n",
    "#     y_pred = rfc.predict(x_test)\n",
    "#     scores.append(accuracy_score(y_test, y_pred))\n",
    "\n",
    "# import matplotlib.pyplot as plt\n",
    "# %matplotlib inline\n",
    "\n",
    "# # plot the relationship between K and testing accuracy\n",
    "# # plt.plot(x_axis, y_axis)\n",
    "# plt.plot(range(1, 200), scores)\n",
    "# plt.xlabel('Value of n_estimators for Random Forest Classifier')\n",
    "# plt.ylabel('Testing Accuracy')"
   ]
  },
  {
   "cell_type": "code",
   "execution_count": null,
   "id": "a898e56f-39fd-448f-9761-12db507378d9",
   "metadata": {},
   "outputs": [],
   "source": [
    "# train_scores = []\n",
    "\n",
    "# rfc_pipe = Pipeline([\n",
    "#         ('scaler', MinMaxScaler()),\n",
    "#         ('RFC', RandomForestClassifier(n_jobs = -1))\n",
    "#         ])\n",
    "# for k in range(1, 101):\n",
    "#     estimator_param = {'RFC__n_estimators': [k]}\n",
    "#     rfc = GridSearchCV(rfc_pipe, estimator_param, scoring='f1_weighted', cv=5, n_jobs = -1, error_score='raise')\n",
    "#     rfc.fit(train_features, train_labels)\n",
    "#     train_scores.append(rfc.best_score_)"
   ]
  },
  {
   "cell_type": "code",
   "execution_count": null,
   "id": "8fa7c5ef-49af-434f-9355-e0fc658b7db9",
   "metadata": {},
   "outputs": [],
   "source": [
    "# for k in range(101, 151):\n",
    "#     estimator_param = {'RFC__n_estimators': [k]}\n",
    "#     rfc = GridSearchCV(rfc_pipe, estimator_param, scoring='f1_weighted', cv=5, n_jobs = -1, error_score='raise')\n",
    "#     rfc.fit(train_features, train_labels)\n",
    "#     train_scores.append(rfc.best_score_)"
   ]
  },
  {
   "cell_type": "code",
   "execution_count": null,
   "id": "076d6bf9-d025-4c12-ae38-5a0eaba59d54",
   "metadata": {},
   "outputs": [],
   "source": [
    "train_scores = []\n",
    "estimators = [10, 20, 50, 100, 200, 500, 1000]\n",
    "\n",
    "rfc_pipe = Pipeline([\n",
    "        ('scaler', MinMaxScaler()),\n",
    "        ('RFC', RandomForestClassifier(n_jobs = -1))\n",
    "        ])\n",
    "for n in estimators:\n",
    "    estimator_param = {'RFC__n_estimators': [n]}\n",
    "    rfc = GridSearchCV(rfc_pipe, estimator_param, scoring='f1_weighted', cv=5, n_jobs = -1, error_score='raise')\n",
    "    rfc.fit(train_features, train_labels)\n",
    "    print(rfc.best_score_)\n",
    "    train_scores.append(rfc.best_score_)"
   ]
  },
  {
   "cell_type": "code",
   "execution_count": null,
   "id": "3b65f50c-837b-456b-9274-95f460d90335",
   "metadata": {},
   "outputs": [],
   "source": [
    "train_scores_test = []\n",
    "estimators = [10, 20, 50]\n",
    "\n",
    "rfc_pipe = Pipeline([\n",
    "        ('scaler', MinMaxScaler()),\n",
    "        ('RFC', RandomForestClassifier(n_jobs = -1))\n",
    "        ])\n",
    "for n in estimators:\n",
    "    estimator_param = {'RFC__n_estimators': [n]}\n",
    "    rfc = GridSearchCV(rfc_pipe, estimator_param, scoring='f1_weighted', cv=5, n_jobs = -1, error_score='raise')\n",
    "    rfc.fit(train_features, train_labels)\n",
    "    print(rfc.best_score_)\n",
    "    train_scores_test.append(rfc.best_score_)"
   ]
  },
  {
   "cell_type": "code",
   "execution_count": null,
   "id": "b5bcf49d-d721-43d9-a699-e0745825fc2d",
   "metadata": {},
   "outputs": [],
   "source": [
    "train_scores_test = []\n",
    "estimators = [10, 20, 50]\n",
    "\n",
    "rfc = RandomForestClassifier()\n",
    "for n in estimators:\n",
    "    estimator_param = {'n_estimators': [n]}\n",
    "    rfc = GridSearchCV(rfc, estimator_param, scoring='f1_weighted', cv=5, n_jobs = -1, error_score='raise')\n",
    "    rfc.fit(train_features, train_labels)\n",
    "    print(rfc.best_score_)\n",
    "    train_scores_test.append(rfc.best_score_)"
   ]
  },
  {
   "cell_type": "code",
   "execution_count": null,
   "id": "e9d37bd3-5932-429b-a69b-40a01a22925e",
   "metadata": {},
   "outputs": [],
   "source": [
    "# estimators = [10]\n",
    "\n",
    "# rfc_pipe = Pipeline([\n",
    "#         ('scaler', MinMaxScaler()),\n",
    "#         ('RFC', RandomForestClassifier(n_jobs = -1))\n",
    "#         ])\n",
    "# for n in estimators:\n",
    "#     estimator_param = {'RFC__n_estimators': [n], 'RFC__max_depth': [8]}\n",
    "#     rfc = GridSearchCV(rfc_pipe, estimator_param, scoring='f1_weighted', cv=5, n_jobs = -1, error_score='raise')\n",
    "#     rfc.fit(train_features, train_labels)\n",
    "#     print(rfc.best_score_)\n",
    "#     print(rfc.best_params_)\n",
    "#     # train_scores.append(rfc.best_score_)"
   ]
  },
  {
   "cell_type": "code",
   "execution_count": null,
   "id": "f1c37f63-72c3-42c4-a7d6-e18c7719f629",
   "metadata": {},
   "outputs": [],
   "source": [
    "# just in case so we don't have to re-run it :)\n",
    "# using n = [10, 20, 50, 100, 200, 500, 1000]\n",
    "n_estimators = [10, 20, 50, 100, 200, 500, 1000]\n",
    "\n",
    "train_scores_saved = [0.98200201140238, 0.9923864366606192, 0.9964309756034606, 0.9974491045615146, 0.9975579700388598, 0.998105124221986, 0.9981050814900575]\n",
    "print(train_scores_saved)"
   ]
  },
  {
   "cell_type": "code",
   "execution_count": null,
   "id": "8ecac5ca-1b75-4b1f-b250-881f8cc3ba0c",
   "metadata": {},
   "outputs": [],
   "source": [
    "import matplotlib.pyplot as plt\n",
    "%matplotlib inline\n",
    "\n",
    "# plot the relationship between n_estimators and training score\n",
    "# plt.plot(x_axis, y_axis)\n",
    "plt.plot(n_estimators, train_scores_saved)\n",
    "plt.xlabel('Value of n_estimators for Random Forest Classifier')\n",
    "plt.ylabel('Training Score')"
   ]
  },
  {
   "cell_type": "code",
   "execution_count": null,
   "id": "a4bbcc4f-9a2c-40eb-b241-2dc4bff27aee",
   "metadata": {},
   "outputs": [],
   "source": [
    "# https://towardsdatascience.com/random-forest-classification-678e551462f5"
   ]
  },
  {
   "cell_type": "code",
   "execution_count": null,
   "id": "cbe1d0a9-c679-45dc-8082-bfda4a51c059",
   "metadata": {},
   "outputs": [],
   "source": [
    "print(train_scores[99])\n",
    "\n",
    "# 0.9975955707035095"
   ]
  },
  {
   "cell_type": "code",
   "execution_count": null,
   "id": "76296905-e853-467a-bb77-a049ff6a8cdb",
   "metadata": {},
   "outputs": [],
   "source": [
    "print(train_scores[99])"
   ]
  },
  {
   "cell_type": "code",
   "execution_count": null,
   "id": "da623eb2-2603-4515-b1cd-2f5ed68a79d3",
   "metadata": {},
   "outputs": [],
   "source": [
    "print(train_scores[149])\n",
    "\n",
    "# 0.9978139032478406"
   ]
  },
  {
   "cell_type": "code",
   "execution_count": null,
   "id": "11c3367e-cce2-4795-9d69-c8086520cf00",
   "metadata": {},
   "outputs": [],
   "source": [
    "print(train_scores[150])"
   ]
  },
  {
   "cell_type": "code",
   "execution_count": null,
   "id": "4245ec02-8ac9-4b78-9e2b-a63e5ef3bef7",
   "metadata": {},
   "outputs": [],
   "source": [
    "print(train_scores)"
   ]
  },
  {
   "cell_type": "code",
   "execution_count": null,
   "id": "5c1e4827-38a1-4856-91d8-e3e9d43abeac",
   "metadata": {},
   "outputs": [],
   "source": [
    "# for i in range(150):\n",
    "#     print(\"n estimators: \", i, \" score: \", train_scores[i])"
   ]
  },
  {
   "cell_type": "code",
   "execution_count": 8,
   "id": "38f3bec4-1b18-4e75-b34a-86ba4540e27e",
   "metadata": {},
   "outputs": [
    {
     "data": {
      "text/html": [
       "<style>#sk-container-id-1 {color: black;background-color: white;}#sk-container-id-1 pre{padding: 0;}#sk-container-id-1 div.sk-toggleable {background-color: white;}#sk-container-id-1 label.sk-toggleable__label {cursor: pointer;display: block;width: 100%;margin-bottom: 0;padding: 0.3em;box-sizing: border-box;text-align: center;}#sk-container-id-1 label.sk-toggleable__label-arrow:before {content: \"▸\";float: left;margin-right: 0.25em;color: #696969;}#sk-container-id-1 label.sk-toggleable__label-arrow:hover:before {color: black;}#sk-container-id-1 div.sk-estimator:hover label.sk-toggleable__label-arrow:before {color: black;}#sk-container-id-1 div.sk-toggleable__content {max-height: 0;max-width: 0;overflow: hidden;text-align: left;background-color: #f0f8ff;}#sk-container-id-1 div.sk-toggleable__content pre {margin: 0.2em;color: black;border-radius: 0.25em;background-color: #f0f8ff;}#sk-container-id-1 input.sk-toggleable__control:checked~div.sk-toggleable__content {max-height: 200px;max-width: 100%;overflow: auto;}#sk-container-id-1 input.sk-toggleable__control:checked~label.sk-toggleable__label-arrow:before {content: \"▾\";}#sk-container-id-1 div.sk-estimator input.sk-toggleable__control:checked~label.sk-toggleable__label {background-color: #d4ebff;}#sk-container-id-1 div.sk-label input.sk-toggleable__control:checked~label.sk-toggleable__label {background-color: #d4ebff;}#sk-container-id-1 input.sk-hidden--visually {border: 0;clip: rect(1px 1px 1px 1px);clip: rect(1px, 1px, 1px, 1px);height: 1px;margin: -1px;overflow: hidden;padding: 0;position: absolute;width: 1px;}#sk-container-id-1 div.sk-estimator {font-family: monospace;background-color: #f0f8ff;border: 1px dotted black;border-radius: 0.25em;box-sizing: border-box;margin-bottom: 0.5em;}#sk-container-id-1 div.sk-estimator:hover {background-color: #d4ebff;}#sk-container-id-1 div.sk-parallel-item::after {content: \"\";width: 100%;border-bottom: 1px solid gray;flex-grow: 1;}#sk-container-id-1 div.sk-label:hover label.sk-toggleable__label {background-color: #d4ebff;}#sk-container-id-1 div.sk-serial::before {content: \"\";position: absolute;border-left: 1px solid gray;box-sizing: border-box;top: 0;bottom: 0;left: 50%;z-index: 0;}#sk-container-id-1 div.sk-serial {display: flex;flex-direction: column;align-items: center;background-color: white;padding-right: 0.2em;padding-left: 0.2em;position: relative;}#sk-container-id-1 div.sk-item {position: relative;z-index: 1;}#sk-container-id-1 div.sk-parallel {display: flex;align-items: stretch;justify-content: center;background-color: white;position: relative;}#sk-container-id-1 div.sk-item::before, #sk-container-id-1 div.sk-parallel-item::before {content: \"\";position: absolute;border-left: 1px solid gray;box-sizing: border-box;top: 0;bottom: 0;left: 50%;z-index: -1;}#sk-container-id-1 div.sk-parallel-item {display: flex;flex-direction: column;z-index: 1;position: relative;background-color: white;}#sk-container-id-1 div.sk-parallel-item:first-child::after {align-self: flex-end;width: 50%;}#sk-container-id-1 div.sk-parallel-item:last-child::after {align-self: flex-start;width: 50%;}#sk-container-id-1 div.sk-parallel-item:only-child::after {width: 0;}#sk-container-id-1 div.sk-dashed-wrapped {border: 1px dashed gray;margin: 0 0.4em 0.5em 0.4em;box-sizing: border-box;padding-bottom: 0.4em;background-color: white;}#sk-container-id-1 div.sk-label label {font-family: monospace;font-weight: bold;display: inline-block;line-height: 1.2em;}#sk-container-id-1 div.sk-label-container {text-align: center;}#sk-container-id-1 div.sk-container {/* jupyter's `normalize.less` sets `[hidden] { display: none; }` but bootstrap.min.css set `[hidden] { display: none !important; }` so we also need the `!important` here to be able to override the default hidden behavior on the sphinx rendered scikit-learn.org. See: https://github.com/scikit-learn/scikit-learn/issues/21755 */display: inline-block !important;position: relative;}#sk-container-id-1 div.sk-text-repr-fallback {display: none;}</style><div id=\"sk-container-id-1\" class=\"sk-top-container\"><div class=\"sk-text-repr-fallback\"><pre>RandomForestClassifier(n_estimators=500)</pre><b>In a Jupyter environment, please rerun this cell to show the HTML representation or trust the notebook. <br />On GitHub, the HTML representation is unable to render, please try loading this page with nbviewer.org.</b></div><div class=\"sk-container\" hidden><div class=\"sk-item\"><div class=\"sk-estimator sk-toggleable\"><input class=\"sk-toggleable__control sk-hidden--visually\" id=\"sk-estimator-id-1\" type=\"checkbox\" checked><label for=\"sk-estimator-id-1\" class=\"sk-toggleable__label sk-toggleable__label-arrow\">RandomForestClassifier</label><div class=\"sk-toggleable__content\"><pre>RandomForestClassifier(n_estimators=500)</pre></div></div></div></div></div>"
      ],
      "text/plain": [
       "RandomForestClassifier(n_estimators=500)"
      ]
     },
     "execution_count": 8,
     "metadata": {},
     "output_type": "execute_result"
    }
   ],
   "source": [
    "best_rfc = RandomForestClassifier(n_estimators=500)\n",
    "best_rfc.fit(train_features, train_labels)"
   ]
  },
  {
   "cell_type": "code",
   "execution_count": 9,
   "id": "ec2d6f13-0730-46f1-b2d8-d4682851ae1d",
   "metadata": {},
   "outputs": [
    {
     "name": "stdout",
     "output_type": "stream",
     "text": [
      "1.0\n",
      "0.8318514082143124\n"
     ]
    }
   ],
   "source": [
    "from sklearn.metrics import f1_score\n",
    "\n",
    "print(f1_score(train_labels, best_rfc.predict(train_features), average='weighted'))\n",
    "\n",
    "print(f1_score(test_labels, best_rfc.predict(test_features),average = 'weighted'))"
   ]
  },
  {
   "cell_type": "code",
   "execution_count": null,
   "id": "774dc624-e4a6-4687-be84-9c14874202c2",
   "metadata": {},
   "outputs": [],
   "source": [
    "# n = 100\n",
    "# 0.8155375718710718\n",
    "\n",
    "# n = 150\n",
    "# 0.8222695344177406\n",
    "\n",
    "# n = 200\n",
    "# 0.8269323313596375\n"
   ]
  }
 ],
 "metadata": {
  "kernelspec": {
   "display_name": "Python 3.8",
   "language": "python",
   "name": "python3"
  },
  "language_info": {
   "codemirror_mode": {
    "name": "ipython",
    "version": 3
   },
   "file_extension": ".py",
   "mimetype": "text/x-python",
   "name": "python",
   "nbconvert_exporter": "python",
   "pygments_lexer": "ipython3",
   "version": "3.8.6"
  }
 },
 "nbformat": 4,
 "nbformat_minor": 5
}
