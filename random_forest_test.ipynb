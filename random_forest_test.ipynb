{
 "cells": [
  {
   "cell_type": "code",
   "execution_count": null,
   "id": "d7991f2a-1500-4509-9bd3-07369f28858c",
   "metadata": {},
   "outputs": [],
   "source": [
    "import pandas as pd\n",
    "from sklearn.preprocessing import MinMaxScaler\n",
    "from sklearn.pipeline import Pipeline\n",
    "from sklearn.model_selection import GridSearchCV\n",
    "\n",
    "train_df = pd.read_csv('sign_mnist_train.csv')\n",
    "test_df = pd.read_csv('sign_mnist_test.csv')"
   ]
  },
  {
   "cell_type": "code",
   "execution_count": null,
   "id": "1c798d1c-5588-4f07-b63e-3b825cf59186",
   "metadata": {},
   "outputs": [],
   "source": [
    "train_features = train_df.iloc[:,train_df.columns != 'label']\n",
    "train_labels = train_df.iloc[:,train_df.columns == 'label']\n",
    "train_labels = train_labels.values.reshape(-1)\n",
    "\n",
    "test_features = test_df.iloc[:,test_df.columns != 'label']\n",
    "test_labels = test_df.iloc[:,test_df.columns == 'label']\n",
    "test_labels = test_labels.values.reshape(-1)"
   ]
  },
  {
   "cell_type": "code",
   "execution_count": null,
   "id": "73bd90bb-1fb3-42ab-980c-43694d0a30d9",
   "metadata": {},
   "outputs": [],
   "source": [
    "def pretty_print(image_example):\n",
    "    \"\"\" Pretty prints a Sign Language MNIST example. Code taken from Fashion MNIST Homework.\n",
    "\n",
    "    Parameters:\n",
    "        image_example: a 1x784 numpy array corresponding to the features of\n",
    "                       a single image.\n",
    "\n",
    "    Returns:\n",
    "        None.\n",
    "    \"\"\"\n",
    "    print(np.array_str(image_example, precision=1, max_line_width=116))"
   ]
  },
  {
   "cell_type": "code",
   "execution_count": null,
   "id": "d320b888-4321-4940-9d58-4a4406111cd2",
   "metadata": {},
   "outputs": [],
   "source": [
    "import gzip\n",
    "import numpy as np\n",
    "import matplotlib.pyplot as plt\n",
    "\n",
    "print(\"Dimensions of training set feature matrix:\", train_features.shape)\n",
    "print(\"Dimensions of training set label matrix:\", train_labels.shape)\n",
    "\n",
    "EXAMPLE_INDEX = np.random.randint(27455)\n",
    "pretty_print(train_features.iloc[EXAMPLE_INDEX].values)\n",
    "\n",
    "plt.figure()\n",
    "plt.imshow(train_features.iloc[EXAMPLE_INDEX].values.reshape(28,28),cmap='gray', vmin=0, vmax=255)\n",
    "plt.show()"
   ]
  },
  {
   "cell_type": "code",
   "execution_count": null,
   "id": "e13a69e4-17b9-443e-80ff-664093113287",
   "metadata": {},
   "outputs": [],
   "source": [
    "from sklearn.ensemble import RandomForestClassifier\n",
    "from sklearn.pipeline import make_pipeline\n",
    "from sklearn.preprocessing import MinMaxScaler\n",
    "from sklearn.model_selection import GridSearchCV\n",
    "from sklearn.metrics import f1_score"
   ]
  },
  {
   "cell_type": "code",
   "execution_count": null,
   "id": "6f222c75-244e-4fee-9f38-5fb756345bb2",
   "metadata": {},
   "outputs": [],
   "source": [
    "# rfc_pipe = Pipeline([\n",
    "#         ('scaler', MinMaxScaler()),\n",
    "#         ('RFC', RandomForestClassifier(n_jobs = -1))\n",
    "#         ])\n",
    "\n",
    "# # other params are set to reasonable measures\n",
    "\n",
    "# rfc_param_grid = {'RFC__n_estimators': [100,500,1000,1500,2000]}\n",
    "\n",
    "# rfc = GridSearchCV(rfc_pipe, rfc_param_grid, scoring='f1_weighted', cv=5, n_jobs = -1, error_score='raise')\n",
    "# rfc.fit(train_features,train_labels)\n",
    "# print(rfc.best_params_)\n",
    "# print(rfc.best_score_)\n",
    "\n",
    "# # generate a curve that gives performance on y axis"
   ]
  },
  {
   "cell_type": "code",
   "execution_count": null,
   "id": "9fea6667-a80f-4584-971c-914b2b5c3478",
   "metadata": {},
   "outputs": [],
   "source": [
    "# from sklearn.ensemble import RandomForestClassifier\n",
    "# from sklearn.metrics import accuracy_score\n",
    "# scores =[]\n",
    "# for k in range(1, 200):\n",
    "#     rfc = RandomForestClassifier(n_estimators=k)\n",
    "#     rfc.fit(x_train, y_train)\n",
    "#     y_pred = rfc.predict(x_test)\n",
    "#     scores.append(accuracy_score(y_test, y_pred))\n",
    "\n",
    "# import matplotlib.pyplot as plt\n",
    "# %matplotlib inline\n",
    "\n",
    "# # plot the relationship between K and testing accuracy\n",
    "# # plt.plot(x_axis, y_axis)\n",
    "# plt.plot(range(1, 200), scores)\n",
    "# plt.xlabel('Value of n_estimators for Random Forest Classifier')\n",
    "# plt.ylabel('Testing Accuracy')"
   ]
  },
  {
   "cell_type": "code",
   "execution_count": null,
   "id": "a898e56f-39fd-448f-9761-12db507378d9",
   "metadata": {},
   "outputs": [],
   "source": [
    "# train_scores = []\n",
    "\n",
    "# rfc_pipe = Pipeline([\n",
    "#         ('scaler', MinMaxScaler()),\n",
    "#         ('RFC', RandomForestClassifier(n_jobs = -1))\n",
    "#         ])\n",
    "# for k in range(1, 101):\n",
    "#     estimator_param = {'RFC__n_estimators': [k]}\n",
    "#     rfc = GridSearchCV(rfc_pipe, estimator_param, scoring='f1_weighted', cv=5, n_jobs = -1, error_score='raise')\n",
    "#     rfc.fit(train_features, train_labels)\n",
    "#     train_scores.append(rfc.best_score_)"
   ]
  },
  {
   "cell_type": "code",
   "execution_count": null,
   "id": "8fa7c5ef-49af-434f-9355-e0fc658b7db9",
   "metadata": {},
   "outputs": [],
   "source": [
    "# for k in range(101, 151):\n",
    "#     estimator_param = {'RFC__n_estimators': [k]}\n",
    "#     rfc = GridSearchCV(rfc_pipe, estimator_param, scoring='f1_weighted', cv=5, n_jobs = -1, error_score='raise')\n",
    "#     rfc.fit(train_features, train_labels)\n",
    "#     train_scores.append(rfc.best_score_)"
   ]
  },
  {
   "cell_type": "code",
   "execution_count": null,
   "id": "076d6bf9-d025-4c12-ae38-5a0eaba59d54",
   "metadata": {},
   "outputs": [],
   "source": [
    "train_scores = []\n",
    "estimators = [10, 20, 50, 100, 200, 500, 1000]\n",
    "\n",
    "rfc_pipe = Pipeline([\n",
    "        ('scaler', MinMaxScaler()),\n",
    "        ('RFC', RandomForestClassifier(n_jobs = -1))\n",
    "        ])\n",
    "for n in estimators:\n",
    "    estimator_param = {'RFC__n_estimators': [n]}\n",
    "    rfc = GridSearchCV(rfc_pipe, estimator_param, scoring='f1_weighted', cv=5, n_jobs = -1, error_score='raise')\n",
    "    rfc.fit(train_features, train_labels)\n",
    "    print(rfc.best_score_)\n",
    "    train_scores.append(rfc.best_score_)"
   ]
  },
  {
   "cell_type": "code",
   "execution_count": null,
   "id": "3b65f50c-837b-456b-9274-95f460d90335",
   "metadata": {},
   "outputs": [],
   "source": [
    "train_scores_test = []\n",
    "estimators = [10, 20, 50]\n",
    "\n",
    "rfc_pipe = Pipeline([\n",
    "        ('scaler', MinMaxScaler()),\n",
    "        ('RFC', RandomForestClassifier(n_jobs = -1))\n",
    "        ])\n",
    "for n in estimators:\n",
    "    estimator_param = {'RFC__n_estimators': [n]}\n",
    "    rfc = GridSearchCV(rfc_pipe, estimator_param, scoring='f1_weighted', cv=5, n_jobs = -1, error_score='raise')\n",
    "    rfc.fit(train_features, train_labels)\n",
    "    print(rfc.best_score_)\n",
    "    train_scores_test.append(rfc.best_score_)"
   ]
  },
  {
   "cell_type": "code",
   "execution_count": null,
   "id": "b5bcf49d-d721-43d9-a699-e0745825fc2d",
   "metadata": {},
   "outputs": [],
   "source": [
    "train_scores_test = []\n",
    "estimators = [10, 20, 50]\n",
    "\n",
    "rfc = RandomForestClassifier()\n",
    "for n in estimators:\n",
    "    estimator_param = {'n_estimators': [n]}\n",
    "    rfc = GridSearchCV(rfc, estimator_param, scoring='f1_weighted', cv=5, n_jobs = -1, error_score='raise')\n",
    "    rfc.fit(train_features, train_labels)\n",
    "    print(rfc.best_score_)\n",
    "    train_scores_test.append(rfc.best_score_)"
   ]
  },
  {
   "cell_type": "code",
   "execution_count": null,
   "id": "e9d37bd3-5932-429b-a69b-40a01a22925e",
   "metadata": {},
   "outputs": [],
   "source": [
    "# estimators = [10]\n",
    "\n",
    "# rfc_pipe = Pipeline([\n",
    "#         ('scaler', MinMaxScaler()),\n",
    "#         ('RFC', RandomForestClassifier(n_jobs = -1))\n",
    "#         ])\n",
    "# for n in estimators:\n",
    "#     estimator_param = {'RFC__n_estimators': [n], 'RFC__max_depth': [8]}\n",
    "#     rfc = GridSearchCV(rfc_pipe, estimator_param, scoring='f1_weighted', cv=5, n_jobs = -1, error_score='raise')\n",
    "#     rfc.fit(train_features, train_labels)\n",
    "#     print(rfc.best_score_)\n",
    "#     print(rfc.best_params_)\n",
    "#     # train_scores.append(rfc.best_score_)"
   ]
  },
  {
   "cell_type": "code",
   "execution_count": null,
   "id": "f1c37f63-72c3-42c4-a7d6-e18c7719f629",
   "metadata": {},
   "outputs": [],
   "source": [
    "# just in case so we don't have to re-run it :)\n",
    "# using n = [10, 20, 50, 100, 200, 500, 1000]\n",
    "\n",
    "train_scores_saved = [0.98200201140238, 0.9923864366606192, 0.9964309756034606, 0.9974491045615146, 0.9975579700388598, 0.998105124221986, 0.9981050814900575]\n",
    "print(train_scores_saved)"
   ]
  },
  {
   "cell_type": "code",
   "execution_count": null,
   "id": "8ecac5ca-1b75-4b1f-b250-881f8cc3ba0c",
   "metadata": {},
   "outputs": [],
   "source": [
    "import matplotlib.pyplot as plt\n",
    "%matplotlib inline\n",
    "\n",
    "# plot the relationship between n_estimators and training score\n",
    "# plt.plot(x_axis, y_axis)\n",
    "plt.plot(range(1, 1000), train_scores)\n",
    "plt.xlabel('Value of n_estimators for Random Forest Classifier')\n",
    "plt.ylabel('Training Score (f1_weighted)')"
   ]
  },
  {
   "cell_type": "code",
   "execution_count": null,
   "id": "a4bbcc4f-9a2c-40eb-b241-2dc4bff27aee",
   "metadata": {},
   "outputs": [],
   "source": [
    "# https://towardsdatascience.com/random-forest-classification-678e551462f5"
   ]
  },
  {
   "cell_type": "code",
   "execution_count": null,
   "id": "cbe1d0a9-c679-45dc-8082-bfda4a51c059",
   "metadata": {},
   "outputs": [],
   "source": [
    "print(train_scores[99])\n",
    "\n",
    "# 0.9975955707035095"
   ]
  },
  {
   "cell_type": "code",
   "execution_count": null,
   "id": "76296905-e853-467a-bb77-a049ff6a8cdb",
   "metadata": {},
   "outputs": [],
   "source": [
    "print(train_scores[99])"
   ]
  },
  {
   "cell_type": "code",
   "execution_count": null,
   "id": "da623eb2-2603-4515-b1cd-2f5ed68a79d3",
   "metadata": {},
   "outputs": [],
   "source": [
    "print(train_scores[149])\n",
    "\n",
    "# 0.9978139032478406"
   ]
  },
  {
   "cell_type": "code",
   "execution_count": null,
   "id": "11c3367e-cce2-4795-9d69-c8086520cf00",
   "metadata": {},
   "outputs": [],
   "source": [
    "print(train_scores[150])"
   ]
  },
  {
   "cell_type": "code",
   "execution_count": null,
   "id": "4245ec02-8ac9-4b78-9e2b-a63e5ef3bef7",
   "metadata": {},
   "outputs": [],
   "source": [
    "print(train_scores)"
   ]
  },
  {
   "cell_type": "code",
   "execution_count": null,
   "id": "5c1e4827-38a1-4856-91d8-e3e9d43abeac",
   "metadata": {},
   "outputs": [],
   "source": [
    "# for i in range(150):\n",
    "#     print(\"n estimators: \", i, \" score: \", train_scores[i])"
   ]
  },
  {
   "cell_type": "code",
   "execution_count": null,
   "id": "38f3bec4-1b18-4e75-b34a-86ba4540e27e",
   "metadata": {},
   "outputs": [],
   "source": [
    "best_rfc = RandomForestClassifier(n_estimators=200, max_depth = 7)\n",
    "best_rfc.fit(train_features, train_labels)"
   ]
  },
  {
   "cell_type": "code",
   "execution_count": null,
   "id": "ec2d6f13-0730-46f1-b2d8-d4682851ae1d",
   "metadata": {},
   "outputs": [],
   "source": [
    "from sklearn.metrics import f1_score\n",
    "\n",
    "print(f1_score(train_labels, best_rfc.predict(train_features), average='weighted'))\n",
    "\n",
    "print(f1_score(test_labels, best_rfc.predict(test_features),average = 'weighted'))"
   ]
  },
  {
   "cell_type": "code",
   "execution_count": null,
   "id": "774dc624-e4a6-4687-be84-9c14874202c2",
   "metadata": {},
   "outputs": [],
   "source": [
    "# n = 100\n",
    "# 0.8155375718710718\n",
    "\n",
    "# n = 150\n",
    "# 0.8222695344177406\n",
    "\n",
    "# n = 200\n",
    "# 0.8269323313596375\n"
   ]
  }
 ],
 "metadata": {
  "kernelspec": {
   "display_name": "Python 3.8",
   "language": "python",
   "name": "python3"
  },
  "language_info": {
   "codemirror_mode": {
    "name": "ipython",
    "version": 3
   },
   "file_extension": ".py",
   "mimetype": "text/x-python",
   "name": "python",
   "nbconvert_exporter": "python",
   "pygments_lexer": "ipython3",
   "version": "3.8.6"
  }
 },
 "nbformat": 4,
 "nbformat_minor": 5
}
