{
 "cells": [
  {
   "cell_type": "code",
   "execution_count": 1,
   "id": "4a297d71-211e-4e46-8548-137fc509733b",
   "metadata": {},
   "outputs": [
    {
     "name": "stderr",
     "output_type": "stream",
     "text": [
      "2023-04-25 18:40:37.676938: I tensorflow/core/util/port.cc:110] oneDNN custom operations are on. You may see slightly different numerical results due to floating-point round-off errors from different computation orders. To turn them off, set the environment variable `TF_ENABLE_ONEDNN_OPTS=0`.\n",
      "2023-04-25 18:40:37.719874: I tensorflow/core/platform/cpu_feature_guard.cc:182] This TensorFlow binary is optimized to use available CPU instructions in performance-critical operations.\n",
      "To enable the following instructions: AVX2 AVX512F AVX512_VNNI FMA, in other operations, rebuild TensorFlow with the appropriate compiler flags.\n",
      "2023-04-25 18:40:38.940050: W tensorflow/compiler/tf2tensorrt/utils/py_utils.cc:38] TF-TRT Warning: Could not find TensorRT\n"
     ]
    }
   ],
   "source": [
    "import pandas as pd\n",
    "import numpy as np\n",
    "from sklearn.model_selection import train_test_split\n",
    "from tensorflow.keras.utils import to_categorical\n",
    "from tensorflow.keras.applications import ResNet50\n",
    "from tensorflow.keras.layers import Dense, Flatten\n",
    "from tensorflow.keras.models import Model\n",
    "from tensorflow.keras.optimizers import Adam\n",
    "\n",
    "train_df = pd.read_csv('sign_mnist_train.csv')\n",
    "test_df = pd.read_csv('sign_mnist_test.csv')"
   ]
  },
  {
   "cell_type": "code",
   "execution_count": 2,
   "id": "c5bcfc57-54c7-4a3b-bac5-5fc3234b63fb",
   "metadata": {},
   "outputs": [],
   "source": [
    "x_train = train_df.iloc[:,train_df.columns != 'label']\n",
    "y_train =  train_df.iloc[:,train_df.columns == 'label']\n",
    "y_train = y_train.values.reshape(-1)\n",
    "\n",
    "x_test = test_df.iloc[:,test_df.columns != 'label']\n",
    "y_test = test_df.iloc[:,test_df.columns == 'label']\n",
    "y_test = y_test.values.reshape(-1)"
   ]
  },
  {
   "cell_type": "code",
   "execution_count": 3,
   "id": "df6f24f4-4d47-4739-9b96-66776e4860e1",
   "metadata": {},
   "outputs": [],
   "source": [
    "from PIL import Image\n",
    "\n",
    "train_data = np.array(x_train).reshape(-1, 28, 28, 1)\n",
    "train_data = np.repeat(train_data, 3, axis=-1)\n",
    "train_data= np.array([np.resize(img, (32, 32, 3)) for img in train_data])\n",
    "test_data = np.array(x_test).reshape(-1, 28, 28, 1)\n",
    "test_data = np.repeat(test_data, 3, axis=-1)\n",
    "test_data= np.array([np.resize(img, (32, 32, 3)) for img in test_data])\n"
   ]
  },
  {
   "cell_type": "code",
   "execution_count": 4,
   "id": "461e5526-f3f4-4ed3-99cd-2837ae14d72b",
   "metadata": {},
   "outputs": [],
   "source": [
    "train_data = train_data / 255.0\n",
    "test_data = test_data / 255.0"
   ]
  },
  {
   "cell_type": "code",
   "execution_count": 5,
   "id": "4b48e9de-6fcf-4453-bbca-11e9707352bd",
   "metadata": {},
   "outputs": [],
   "source": [
    "train_labels = to_categorical(y_train, num_classes=26)\n",
    "test_labels = to_categorical(y_test, num_classes=26)"
   ]
  },
  {
   "cell_type": "code",
   "execution_count": 6,
   "id": "ae29a683-106b-4c73-9fa7-fa0ab9812a2f",
   "metadata": {},
   "outputs": [
    {
     "name": "stderr",
     "output_type": "stream",
     "text": [
      "2023-04-25 18:40:44.261605: E tensorflow/compiler/xla/stream_executor/cuda/cuda_driver.cc:266] failed call to cuInit: CUDA_ERROR_NO_DEVICE: no CUDA-capable device is detected\n",
      "2023-04-25 18:40:44.261632: I tensorflow/compiler/xla/stream_executor/cuda/cuda_diagnostics.cc:168] retrieving CUDA diagnostic information for host: gpu0.ada.davidson.edu\n",
      "2023-04-25 18:40:44.261637: I tensorflow/compiler/xla/stream_executor/cuda/cuda_diagnostics.cc:175] hostname: gpu0.ada.davidson.edu\n",
      "2023-04-25 18:40:44.261742: I tensorflow/compiler/xla/stream_executor/cuda/cuda_diagnostics.cc:199] libcuda reported version is: 530.30.2\n",
      "2023-04-25 18:40:44.261758: I tensorflow/compiler/xla/stream_executor/cuda/cuda_diagnostics.cc:203] kernel reported version is: 530.30.2\n",
      "2023-04-25 18:40:44.261762: I tensorflow/compiler/xla/stream_executor/cuda/cuda_diagnostics.cc:309] kernel version seems to match DSO: 530.30.2\n"
     ]
    }
   ],
   "source": [
    "resnet_model = ResNet50(include_top=False, input_shape=(32, 32, 3), weights='imagenet')\n",
    "x = Flatten()(resnet_model.output)\n",
    "x = Dense(1024, activation='relu')(x)\n",
    "predictions = Dense(26, activation='softmax')(x)\n",
    "model = Model(inputs=resnet_model.input, outputs=predictions)"
   ]
  },
  {
   "cell_type": "code",
   "execution_count": 7,
   "id": "1a0d08c4-d12e-4638-b0aa-165d2c6534b1",
   "metadata": {},
   "outputs": [
    {
     "name": "stderr",
     "output_type": "stream",
     "text": [
      "WARNING:absl:`lr` is deprecated in Keras optimizer, please use `learning_rate` or use the legacy optimizer, e.g.,tf.keras.optimizers.legacy.Adam.\n"
     ]
    },
    {
     "name": "stdout",
     "output_type": "stream",
     "text": [
      "Epoch 1/10\n",
      "858/858 [==============================] - 268s 299ms/step - loss: 0.7865 - accuracy: 0.7848 - val_loss: 2.0297 - val_accuracy: 0.4336\n",
      "Epoch 2/10\n",
      "858/858 [==============================] - 255s 297ms/step - loss: 0.2291 - accuracy: 0.9422 - val_loss: 2.2903 - val_accuracy: 0.6566\n",
      "Epoch 3/10\n",
      "858/858 [==============================] - 255s 298ms/step - loss: 0.1647 - accuracy: 0.9571 - val_loss: 0.7762 - val_accuracy: 0.8473\n",
      "Epoch 4/10\n",
      "858/858 [==============================] - 254s 297ms/step - loss: 0.1193 - accuracy: 0.9699 - val_loss: 5.1962 - val_accuracy: 0.3026\n",
      "Epoch 5/10\n",
      "858/858 [==============================] - 254s 296ms/step - loss: 0.2197 - accuracy: 0.9435 - val_loss: 1.9290 - val_accuracy: 0.7171\n",
      "Epoch 6/10\n",
      "858/858 [==============================] - 254s 296ms/step - loss: 0.1258 - accuracy: 0.9673 - val_loss: 0.7325 - val_accuracy: 0.8413\n",
      "Epoch 7/10\n",
      "858/858 [==============================] - 253s 295ms/step - loss: 0.0678 - accuracy: 0.9831 - val_loss: 0.3773 - val_accuracy: 0.9195\n",
      "Epoch 8/10\n",
      "858/858 [==============================] - 254s 296ms/step - loss: 0.1967 - accuracy: 0.9511 - val_loss: 0.8864 - val_accuracy: 0.8423\n",
      "Epoch 9/10\n",
      "858/858 [==============================] - 254s 296ms/step - loss: 0.0481 - accuracy: 0.9870 - val_loss: 0.5459 - val_accuracy: 0.8841\n",
      "Epoch 10/10\n",
      "858/858 [==============================] - 254s 296ms/step - loss: 0.1173 - accuracy: 0.9712 - val_loss: 0.4488 - val_accuracy: 0.8889\n",
      "225/225 [==============================] - 15s 65ms/step - loss: 0.4488 - accuracy: 0.8889\n",
      "Test accuracy: 0.8888733983039856\n"
     ]
    }
   ],
   "source": [
    "opt = Adam(lr=0.001)\n",
    "model.compile(loss='categorical_crossentropy', optimizer=opt, metrics=['accuracy'])\n",
    "\n",
    "model.fit(train_data, train_labels, batch_size=32, epochs=10, validation_data=(test_data, test_labels))\n",
    "\n",
    "test_loss, test_acc = model.evaluate(test_data, test_labels)\n",
    "print('Test accuracy:', test_acc)"
   ]
  },
  {
   "cell_type": "code",
   "execution_count": null,
   "id": "8b6179ac-0490-41fb-afc6-290736613922",
   "metadata": {},
   "outputs": [],
   "source": []
  }
 ],
 "metadata": {
  "kernelspec": {
   "display_name": "Python 3.8",
   "language": "python",
   "name": "python3"
  },
  "language_info": {
   "codemirror_mode": {
    "name": "ipython",
    "version": 3
   },
   "file_extension": ".py",
   "mimetype": "text/x-python",
   "name": "python",
   "nbconvert_exporter": "python",
   "pygments_lexer": "ipython3",
   "version": "3.8.6"
  }
 },
 "nbformat": 4,
 "nbformat_minor": 5
}
