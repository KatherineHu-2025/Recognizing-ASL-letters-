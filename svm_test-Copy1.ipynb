{
 "cells": [
  {
   "cell_type": "code",
   "execution_count": 2,
   "id": "8cc9fed3-4382-431e-b46f-b0ad1e003d0f",
   "metadata": {},
   "outputs": [],
   "source": [
    "import pandas as pd\n",
    "from sklearn.preprocessing import MinMaxScaler\n",
    "from sklearn.pipeline import Pipeline\n",
    "from sklearn.model_selection import GridSearchCV\n",
    "\n",
    "train_df = pd.read_csv('sign_mnist_train.csv')\n",
    "test_df = pd.read_csv('sign_mnist_test.csv')"
   ]
  },
  {
   "cell_type": "code",
   "execution_count": 3,
   "id": "9d81a4d8-e179-45dd-a8c3-5907efee0e27",
   "metadata": {},
   "outputs": [],
   "source": [
    "train_features = train_df.iloc[:,train_df.columns != 'label']\n",
    "train_labels = train_df.iloc[:,train_df.columns == 'label']\n",
    "train_labels = train_labels.values.reshape(-1)\n",
    "\n",
    "test_features = test_df.iloc[:,test_df.columns != 'label']\n",
    "test_labels = test_df.iloc[:,test_df.columns == 'label']\n",
    "test_labels = test_labels.values.reshape(-1)"
   ]
  },
  {
   "cell_type": "code",
   "execution_count": 4,
   "id": "328c31e6-0c71-4cfc-a9e2-6a3b670e7f86",
   "metadata": {},
   "outputs": [],
   "source": [
    "def pretty_print(image_example):\n",
    "    \"\"\" Pretty prints a Sign Language MNIST example. Code taken from Fashion MNIST Homework.\n",
    "\n",
    "    Parameters:\n",
    "        image_example: a 1x784 numpy array corresponding to the features of\n",
    "                       a single image.\n",
    "\n",
    "    Returns:\n",
    "        None.\n",
    "    \"\"\"\n",
    "    print(np.array_str(image_example, precision=1, max_line_width=116))"
   ]
  },
  {
   "cell_type": "code",
   "execution_count": 5,
   "id": "c593f0fb-8d9c-46bd-a8e5-46c41ba07cca",
   "metadata": {},
   "outputs": [
    {
     "name": "stdout",
     "output_type": "stream",
     "text": [
      "Dimensions of training set feature matrix: (27455, 784)\n",
      "Dimensions of training set label matrix: (27455,)\n",
      "[ 55  68  74  81  90  99 102 106 110 112 114 116 118 119 121 123 124 125 127 128 129 130 132 133 134 135 135 135\n",
      "  59  69  75  82  91 100 103 107 110 112 115 117 119 120 122 124 125 126 127 131 130 131 133 134 135 135 136 136\n",
      "  60  71  76  82  93 100 104 108 111 113 116 118 120 122 122 125 127 128 128 118 129 133 133 135 136 135 137 138\n",
      "  61  71  77  84  94 102 105 108 112 114 117 119 121 122 124 126 128 129 141  96 113 136 134 136 137 138 138 141\n",
      "  63  72  79  86  96 102 106 109 112 116 118 119 121 123 125 127 128 134 146 102  98 139 134 137 138 140 140 142\n",
      "  65  73  79  87  97 103 106 110 113 116 119 120 122 124 126 127 127 133 145 111  90 138 136 139 140 141 142 142\n",
      "  67  74  80  88  98 104 106 110 115 118 119 121 122 124 124 128 130 130 145 123  89 133 138 139 141 141 142 143\n",
      "  68  75  82  89 100 104 107 111 114 118 119 121 123 124 136 114 110 134 151 136  91 123 143 140 140 142 144 145\n",
      "  68  76  84  91 101 105 109 112 115 118 120 122 123 125 138 116  73 128 149 139  97 108 146 140 142 144 144 144\n",
      "  70  77  84  92 102 105 109 112 116 119 124 126 127 136 134 112  67 109 147 132  99 100 147 142 144 143 143 145\n",
      "  70  78  85  93 103 106 110 110 126 117  99  92  93 111 143 125  87  87 148 119  97  92 146 143 145 144 145 147\n",
      "  72  79  87  93 102 106 109 112 124 101  73  61  63  62 115 137 100  67 134 104  95  85 144 143 146 147 146 148\n",
      "  73  80  86  95 104 106 111 114 116 104  84  63  74  75  84 138 114  72 117  86  92  78 139 146 146 147 147 148\n",
      "  73  80  87  96 104 107 111 113 119 123 124 123  90  65  81 139 123  80  88  71  86  75 132 148 146 148 148 149\n",
      "  75  81  87  96 104 107 112 115 120 117 137 151 105  51  97 151 126  86  58  69  85  77 122 151 147 148 149 149\n",
      "  75  81  88  97 104 107 112 115 119 121 138 147 107  51  93 162 124  96  59  68  85  75 106 154 146 149 150 150\n",
      "  75  82  88  98 104 108 113 113 128 145 135 152 113  39 108 168 124  98  63  67  82  74  92 154 147 149 150 151\n",
      "  75  81  90 100 105 109 113 112 130 157 132 142 107  60 146 149 125  91  64  61  77  70  83 154 148 150 151 151\n",
      "  76  83  91 101 105 110 113 114 120 145 130 132 106 131 163 134 126  95  67  63  72  59 102 156 147 150 151 152\n",
      "  78  84  92 100 104 108 114 116 119 127 111 122 135 162 158 134 119  98  71  64  67  59 136 151 148 150 151 152\n",
      "  78  84  92 101 104 109 113 117 119 130 119 126 161 167 152 133 114  96  74  64  58  77 152 147 149 150 151 152\n",
      "  78  84  92 101 105 109 113 117 117 138 149 116 142 167 148 131 111  95  75  65  50 108 155 148 150 150 151 153\n",
      "  78  85  93 100 104 109 112 118 116 146 156 123 137 166 147 131 108  96  77  63  56 137 151 148 149 151 152 153\n",
      "  79  84  93 102 105 110 113 119 118 152 162 136 153 160 145 131 110  97  79  56  80 153 147 149 150 152 152 153\n",
      "  79  84  93 102 106 109 114 119 118 158 165 145 152 157 150 136 111  97  79  52 113 154 147 150 152 152 153 153\n",
      "  80  86  95 101 106 111 115 119 117 156 158 146 152 151 153 142 113  95  75  59 139 150 148 150 151 152 153 154\n",
      "  80  86  95 101 104 109 114 118 118 151 152 141 150 150 154 144 114  95  66  82 153 146 150 151 151 152 153 154\n",
      "  81  85  94 101 105 109 114 119 119 140 143 148 155 150 152 140 111  91  60 115 154 147 149 151 152 152 153 154]\n"
     ]
    },
    {
     "data": {
      "image/png": "[encoded data removed]",
      "text/plain": [
       "<Figure size 432x288 with 1 Axes>"
      ]
     },
     "metadata": {
      "needs_background": "light"
     },
     "output_type": "display_data"
    }
   ],
   "source": [
    "import gzip\n",
    "import numpy as np\n",
    "import matplotlib.pyplot as plt\n",
    "\n",
    "print(\"Dimensions of training set feature matrix:\", train_features.shape)\n",
    "print(\"Dimensions of training set label matrix:\", train_labels.shape)\n",
    "\n",
    "EXAMPLE_INDEX = np.random.randint(27455)\n",
    "pretty_print(train_features.iloc[EXAMPLE_INDEX].values)\n",
    "\n",
    "plt.figure()\n",
    "plt.imshow(train_features.iloc[EXAMPLE_INDEX].values.reshape(28,28),cmap='gray', vmin=0, vmax=255)\n",
    "plt.show()"
   ]
  },
  {
   "cell_type": "code",
   "execution_count": 6,
   "id": "478d6866-3ab7-4f0e-955f-8b4c085d44cc",
   "metadata": {},
   "outputs": [],
   "source": [
    "from sklearn.pipeline import make_pipeline\n",
    "from sklearn.preprocessing import MinMaxScaler\n",
    "from sklearn.multiclass import OneVsRestClassifier\n",
    "from sklearn.svm import SVC\n",
    "from sklearn.model_selection import GridSearchCV\n",
    "from sklearn.metrics import f1_score"
   ]
  },
  {
   "cell_type": "code",
   "execution_count": 7,
   "id": "e2d40a33-b87c-41c8-8e55-03e4fb0cbffb",
   "metadata": {},
   "outputs": [],
   "source": [
    "ovr_pipeline = Pipeline([('scaler', MinMaxScaler()), \n",
    "                         ('ovr', OneVsRestClassifier(SVC()))\n",
    "                        ])"
   ]
  },
  {
   "cell_type": "code",
   "execution_count": null,
   "id": "bf4f6c29-4a26-483b-92b3-d7b8e31baa15",
   "metadata": {},
   "outputs": [],
   "source": [
    "# params_ovr = {'ovr__estimator__C': [0.1, 1, 10], 'ovr__estimator__kernel': ['linear'], 'ovr__estimator__gamma': [0.01, 0.1, 1]}\n",
    "\n",
    "# ovr_grid = GridSearchCV(ovr_pipeline, params_ovr, scoring='f1_weighted', cv=5, n_jobs=-1)\n",
    "# ovr_grid.fit(train_features, train_labels)\n",
    "# print(ovr_grid.best_params_)\n",
    "# print(ovr_grid.best_score_)"
   ]
  },
  {
   "cell_type": "code",
   "execution_count": 7,
   "id": "bab604ed-ae70-4699-bc7e-6797e470ca3d",
   "metadata": {},
   "outputs": [
    {
     "name": "stderr",
     "output_type": "stream",
     "text": [
      "/opt/pub/eb/apps/all/DavidsonJupyter/2021-common-GCCcore-10.2.0/lib/python3.8/site-packages/joblib/externals/loky/process_executor.py:702: UserWarning: A worker stopped while some jobs were given to the executor. This can be caused by a too short worker timeout or by a memory leak.\n",
      "  warnings.warn(\n"
     ]
    },
    {
     "name": "stdout",
     "output_type": "stream",
     "text": [
      "{'ovr__estimator__C': 10, 'ovr__estimator__gamma': 0.01, 'ovr__estimator__kernel': 'linear'}\n",
      "0.9999635813851903\n"
     ]
    }
   ],
   "source": [
    "params_ovr = {'ovr__estimator__C': [0.1, 1, 10, 100, 1000], 'ovr__estimator__kernel': ['linear'], 'ovr__estimator__gamma': [0.01, 0.1, 1, 10]}\n",
    "\n",
    "ovr_grid = GridSearchCV(ovr_pipeline, params_ovr, scoring='f1_weighted', cv=5, n_jobs=-1)\n",
    "ovr_grid.fit(train_features, train_labels)\n",
    "print(ovr_grid.best_params_)\n",
    "print(ovr_grid.best_score_)"
   ]
  },
  {
   "cell_type": "code",
   "execution_count": null,
   "id": "7d550a6f-57a1-4b83-bc38-308a67378342",
   "metadata": {},
   "outputs": [],
   "source": [
    "C = [0.1, 1, 10]\n",
    "\n",
    "for c in C:\n",
    "    params_ovr = {'ovr__estimator__C': [c], 'ovr__estimator__kernel': ['linear']}\n",
    "    ovr_grid = GridSearchCV(ovr_pipeline, params_ovr, scoring='f1_weighted', cv=5, n_jobs=-1)\n",
    "    ovr_grid.fit(train_features, train_labels)\n",
    "    print(ovr_grid.best_params_)\n",
    "    print(ovr_grid.best_score_)"
   ]
  },
  {
   "cell_type": "code",
   "execution_count": null,
   "id": "a2b1fe10-914c-4f58-ab7e-78234d2b28a2",
   "metadata": {},
   "outputs": [],
   "source": [
    "gamma = [0.01, 0.1, 1]\n",
    "\n",
    "for g in gamma:\n",
    "    params_ovr = {'ovr__estimator__kernel': ['linear'], 'ovr__estimator__gamma': [g]}\n",
    "    ovr_grid = GridSearchCV(ovr_pipeline, params_ovr, scoring='f1_weighted', cv=5, n_jobs=-1)\n",
    "    ovr_grid.fit(train_features, train_labels)\n",
    "    print(ovr_grid.best_params_)\n",
    "    print(ovr_grid.best_score_)"
   ]
  },
  {
   "cell_type": "code",
   "execution_count": 8,
   "id": "1e8c8232-1f5a-47ad-b6c2-29dd6b295a2c",
   "metadata": {},
   "outputs": [
    {
     "data": {
      "text/html": [
       "<style>#sk-container-id-1 {color: black;background-color: white;}#sk-container-id-1 pre{padding: 0;}#sk-container-id-1 div.sk-toggleable {background-color: white;}#sk-container-id-1 label.sk-toggleable__label {cursor: pointer;display: block;width: 100%;margin-bottom: 0;padding: 0.3em;box-sizing: border-box;text-align: center;}#sk-container-id-1 label.sk-toggleable__label-arrow:before {content: \"▸\";float: left;margin-right: 0.25em;color: #696969;}#sk-container-id-1 label.sk-toggleable__label-arrow:hover:before {color: black;}#sk-container-id-1 div.sk-estimator:hover label.sk-toggleable__label-arrow:before {color: black;}#sk-container-id-1 div.sk-toggleable__content {max-height: 0;max-width: 0;overflow: hidden;text-align: left;background-color: #f0f8ff;}#sk-container-id-1 div.sk-toggleable__content pre {margin: 0.2em;color: black;border-radius: 0.25em;background-color: #f0f8ff;}#sk-container-id-1 input.sk-toggleable__control:checked~div.sk-toggleable__content {max-height: 200px;max-width: 100%;overflow: auto;}#sk-container-id-1 input.sk-toggleable__control:checked~label.sk-toggleable__label-arrow:before {content: \"▾\";}#sk-container-id-1 div.sk-estimator input.sk-toggleable__control:checked~label.sk-toggleable__label {background-color: #d4ebff;}#sk-container-id-1 div.sk-label input.sk-toggleable__control:checked~label.sk-toggleable__label {background-color: #d4ebff;}#sk-container-id-1 input.sk-hidden--visually {border: 0;clip: rect(1px 1px 1px 1px);clip: rect(1px, 1px, 1px, 1px);height: 1px;margin: -1px;overflow: hidden;padding: 0;position: absolute;width: 1px;}#sk-container-id-1 div.sk-estimator {font-family: monospace;background-color: #f0f8ff;border: 1px dotted black;border-radius: 0.25em;box-sizing: border-box;margin-bottom: 0.5em;}#sk-container-id-1 div.sk-estimator:hover {background-color: #d4ebff;}#sk-container-id-1 div.sk-parallel-item::after {content: \"\";width: 100%;border-bottom: 1px solid gray;flex-grow: 1;}#sk-container-id-1 div.sk-label:hover label.sk-toggleable__label {background-color: #d4ebff;}#sk-container-id-1 div.sk-serial::before {content: \"\";position: absolute;border-left: 1px solid gray;box-sizing: border-box;top: 0;bottom: 0;left: 50%;z-index: 0;}#sk-container-id-1 div.sk-serial {display: flex;flex-direction: column;align-items: center;background-color: white;padding-right: 0.2em;padding-left: 0.2em;position: relative;}#sk-container-id-1 div.sk-item {position: relative;z-index: 1;}#sk-container-id-1 div.sk-parallel {display: flex;align-items: stretch;justify-content: center;background-color: white;position: relative;}#sk-container-id-1 div.sk-item::before, #sk-container-id-1 div.sk-parallel-item::before {content: \"\";position: absolute;border-left: 1px solid gray;box-sizing: border-box;top: 0;bottom: 0;left: 50%;z-index: -1;}#sk-container-id-1 div.sk-parallel-item {display: flex;flex-direction: column;z-index: 1;position: relative;background-color: white;}#sk-container-id-1 div.sk-parallel-item:first-child::after {align-self: flex-end;width: 50%;}#sk-container-id-1 div.sk-parallel-item:last-child::after {align-self: flex-start;width: 50%;}#sk-container-id-1 div.sk-parallel-item:only-child::after {width: 0;}#sk-container-id-1 div.sk-dashed-wrapped {border: 1px dashed gray;margin: 0 0.4em 0.5em 0.4em;box-sizing: border-box;padding-bottom: 0.4em;background-color: white;}#sk-container-id-1 div.sk-label label {font-family: monospace;font-weight: bold;display: inline-block;line-height: 1.2em;}#sk-container-id-1 div.sk-label-container {text-align: center;}#sk-container-id-1 div.sk-container {/* jupyter's `normalize.less` sets `[hidden] { display: none; }` but bootstrap.min.css set `[hidden] { display: none !important; }` so we also need the `!important` here to be able to override the default hidden behavior on the sphinx rendered scikit-learn.org. See: https://github.com/scikit-learn/scikit-learn/issues/21755 */display: inline-block !important;position: relative;}#sk-container-id-1 div.sk-text-repr-fallback {display: none;}</style><div id=\"sk-container-id-1\" class=\"sk-top-container\"><div class=\"sk-text-repr-fallback\"><pre>OneVsRestClassifier(estimator=SVC(C=10, gamma=0.01, kernel=&#x27;linear&#x27;))</pre><b>In a Jupyter environment, please rerun this cell to show the HTML representation or trust the notebook. <br />On GitHub, the HTML representation is unable to render, please try loading this page with nbviewer.org.</b></div><div class=\"sk-container\" hidden><div class=\"sk-item sk-dashed-wrapped\"><div class=\"sk-label-container\"><div class=\"sk-label sk-toggleable\"><input class=\"sk-toggleable__control sk-hidden--visually\" id=\"sk-estimator-id-1\" type=\"checkbox\" ><label for=\"sk-estimator-id-1\" class=\"sk-toggleable__label sk-toggleable__label-arrow\">OneVsRestClassifier</label><div class=\"sk-toggleable__content\"><pre>OneVsRestClassifier(estimator=SVC(C=10, gamma=0.01, kernel=&#x27;linear&#x27;))</pre></div></div></div><div class=\"sk-parallel\"><div class=\"sk-parallel-item\"><div class=\"sk-item\"><div class=\"sk-label-container\"><div class=\"sk-label sk-toggleable\"><input class=\"sk-toggleable__control sk-hidden--visually\" id=\"sk-estimator-id-2\" type=\"checkbox\" ><label for=\"sk-estimator-id-2\" class=\"sk-toggleable__label sk-toggleable__label-arrow\">estimator: SVC</label><div class=\"sk-toggleable__content\"><pre>SVC(C=10, gamma=0.01, kernel=&#x27;linear&#x27;)</pre></div></div></div><div class=\"sk-serial\"><div class=\"sk-item\"><div class=\"sk-estimator sk-toggleable\"><input class=\"sk-toggleable__control sk-hidden--visually\" id=\"sk-estimator-id-3\" type=\"checkbox\" ><label for=\"sk-estimator-id-3\" class=\"sk-toggleable__label sk-toggleable__label-arrow\">SVC</label><div class=\"sk-toggleable__content\"><pre>SVC(C=10, gamma=0.01, kernel=&#x27;linear&#x27;)</pre></div></div></div></div></div></div></div></div></div></div>"
      ],
      "text/plain": [
       "OneVsRestClassifier(estimator=SVC(C=10, gamma=0.01, kernel='linear'))"
      ]
     },
     "execution_count": 8,
     "metadata": {},
     "output_type": "execute_result"
    }
   ],
   "source": [
    "ovr = OneVsRestClassifier(SVC(C=10, kernel='linear', gamma=0.01))\n",
    "ovr.fit(train_features, train_labels)"
   ]
  },
  {
   "cell_type": "code",
   "execution_count": 10,
   "id": "f728573d-f06c-4319-979a-7f00e45e359a",
   "metadata": {},
   "outputs": [
    {
     "name": "stdout",
     "output_type": "stream",
     "text": [
      "1.0\n",
      "0.5854532950997038\n"
     ]
    }
   ],
   "source": [
    "from sklearn.metrics import f1_score\n",
    "\n",
    "print(f1_score(train_labels, ovr.predict(train_features), average='weighted'))\n",
    "\n",
    "print(f1_score(test_labels, ovr.predict(test_features),average = 'weighted'))"
   ]
  },
  {
   "cell_type": "code",
   "execution_count": 12,
   "id": "12495e3d-d0d9-4c5c-b70c-9fa58f0e2e61",
   "metadata": {},
   "outputs": [
    {
     "name": "stdout",
     "output_type": "stream",
     "text": [
      "1.0\n"
     ]
    }
   ],
   "source": [
    "print(ovr.score(train_features, train_labels))"
   ]
  },
  {
   "cell_type": "code",
   "execution_count": 14,
   "id": "d22f1701-a4fd-42ee-98af-149c5ae0f3b4",
   "metadata": {},
   "outputs": [
    {
     "name": "stdout",
     "output_type": "stream",
     "text": [
      "[0.99981788 0.99981788 0.99981788 1.         1.        ]\n"
     ]
    }
   ],
   "source": [
    "from sklearn.model_selection import cross_val_score\n",
    "print(cross_val_score(ovr, train_features, train_labels, cv=5))"
   ]
  },
  {
   "cell_type": "code",
   "execution_count": null,
   "id": "9e88768f-4091-4605-8b00-31e4513d12b4",
   "metadata": {},
   "outputs": [],
   "source": []
  }
 ],
 "metadata": {
  "kernelspec": {
   "display_name": "Python 3.8",
   "language": "python",
   "name": "python3"
  },
  "language_info": {
   "codemirror_mode": {
    "name": "ipython",
    "version": 3
   },
   "file_extension": ".py",
   "mimetype": "text/x-python",
   "name": "python",
   "nbconvert_exporter": "python",
   "pygments_lexer": "ipython3",
   "version": "3.8.6"
  }
 },
 "nbformat": 4,
 "nbformat_minor": 5
}
