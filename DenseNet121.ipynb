{
 "cells": [
  {
   "cell_type": "code",
   "execution_count": null,
   "id": "852cc7d6-6045-47d3-8fbb-529c36058bff",
   "metadata": {},
   "outputs": [],
   "source": []
  },
  {
   "cell_type": "code",
   "execution_count": 1,
   "id": "ff7fa59f-8f7f-450c-a7de-86a375b93769",
   "metadata": {
    "tags": []
   },
   "outputs": [
    {
     "name": "stderr",
     "output_type": "stream",
     "text": [
      "2023-04-27 21:43:43.344433: I tensorflow/core/util/port.cc:110] oneDNN custom operations are on. You may see slightly different numerical results due to floating-point round-off errors from different computation orders. To turn them off, set the environment variable `TF_ENABLE_ONEDNN_OPTS=0`.\n",
      "2023-04-27 21:43:43.392095: I tensorflow/core/platform/cpu_feature_guard.cc:182] This TensorFlow binary is optimized to use available CPU instructions in performance-critical operations.\n",
      "To enable the following instructions: AVX2 AVX512F AVX512_VNNI FMA, in other operations, rebuild TensorFlow with the appropriate compiler flags.\n",
      "2023-04-27 21:43:44.634671: W tensorflow/compiler/tf2tensorrt/utils/py_utils.cc:38] TF-TRT Warning: Could not find TensorRT\n"
     ]
    }
   ],
   "source": [
    "import pandas as pd\n",
    "import numpy as np\n",
    "from sklearn.model_selection import train_test_split\n",
    "from tensorflow.keras.utils import to_categorical\n",
    "from tensorflow.keras.applications import DenseNet121\n",
    "from tensorflow.keras.layers import Dense, Flatten\n",
    "from tensorflow.keras.models import Model\n",
    "from tensorflow.keras.optimizers import Adam\n",
    "\n",
    "train_df = pd.read_csv('sign_mnist_train.csv')\n",
    "test_df = pd.read_csv('sign_mnist_test.csv')"
   ]
  },
  {
   "cell_type": "code",
   "execution_count": 2,
   "id": "3b076d72-d97f-42c0-a6ad-2cbcb0c99d1f",
   "metadata": {},
   "outputs": [],
   "source": [
    "x_train = train_df.iloc[:,train_df.columns != 'label']\n",
    "y_train = train_df.iloc[:,train_df.columns == 'label']\n",
    "y_train = y_train.values.reshape(-1)\n",
    "\n",
    "x_test = test_df.iloc[:,test_df.columns != 'label']\n",
    "y_test = test_df.iloc[:,test_df.columns == 'label']\n",
    "y_test = y_test.values.reshape(-1)"
   ]
  },
  {
   "cell_type": "code",
   "execution_count": 3,
   "id": "3bd36ba9-72ee-46c4-af6d-4e44dff525ef",
   "metadata": {},
   "outputs": [],
   "source": [
    "x_train, x_train_test, y_train, y_train_test = train_test_split(x_train, y_train, test_size=0.2, random_state=42)"
   ]
  },
  {
   "cell_type": "code",
   "execution_count": 4,
   "id": "1dd972ce-b955-4df8-9f92-351fbf6a91c3",
   "metadata": {},
   "outputs": [],
   "source": [
    "from PIL import Image\n",
    "\n",
    "train_data = np.array(x_train).reshape(-1, 28, 28, 1)\n",
    "train_data = np.repeat(train_data, 3, axis=-1)\n",
    "train_data= np.array([np.resize(img, (32, 32, 3)) for img in train_data])\n",
    "\n",
    "train_test_data = np.array(x_train_test).reshape(-1, 28, 28, 1)\n",
    "train_test_data = np.repeat(train_test_data, 3, axis=-1)\n",
    "train_test_data= np.array([np.resize(img, (32, 32, 3)) for img in train_test_data])\n",
    "\n",
    "test_data = np.array(x_test).reshape(-1, 28, 28, 1)\n",
    "test_data = np.repeat(test_data, 3, axis=-1)\n",
    "test_data= np.array([np.resize(img, (32, 32, 3)) for img in test_data])\n"
   ]
  },
  {
   "cell_type": "code",
   "execution_count": 5,
   "id": "fa6b4fa8-774f-4409-b108-a0ce55361804",
   "metadata": {},
   "outputs": [],
   "source": [
    "train_data = train_data / 255.0\n",
    "train_test_data = train_test_data / 255.0\n",
    "test_data = test_data / 255.0"
   ]
  },
  {
   "cell_type": "code",
   "execution_count": 6,
   "id": "8f112924-cbc1-4f75-b45e-cc5e4fe3d179",
   "metadata": {},
   "outputs": [],
   "source": [
    "train_labels = to_categorical(y_train, num_classes=26)\n",
    "train_test_labels = to_categorical(y_train_test, num_classes=26)\n",
    "test_labels = to_categorical(y_test, num_classes=26)"
   ]
  },
  {
   "cell_type": "code",
   "execution_count": 7,
   "id": "b5773340-abf7-4d67-9b8b-a337a9f55e27",
   "metadata": {},
   "outputs": [
    {
     "data": {
      "text/plain": [
       "(5491, 26)"
      ]
     },
     "execution_count": 7,
     "metadata": {},
     "output_type": "execute_result"
    }
   ],
   "source": [
    "train_test_labels.shape"
   ]
  },
  {
   "cell_type": "code",
   "execution_count": 8,
   "id": "213c052e-1980-473a-8a52-19c2e094fa90",
   "metadata": {},
   "outputs": [
    {
     "name": "stderr",
     "output_type": "stream",
     "text": [
      "2023-04-27 21:44:13.987452: E tensorflow/compiler/xla/stream_executor/cuda/cuda_driver.cc:266] failed call to cuInit: CUDA_ERROR_NO_DEVICE: no CUDA-capable device is detected\n",
      "2023-04-27 21:44:13.987479: I tensorflow/compiler/xla/stream_executor/cuda/cuda_diagnostics.cc:168] retrieving CUDA diagnostic information for host: gpu0.ada.davidson.edu\n",
      "2023-04-27 21:44:13.987484: I tensorflow/compiler/xla/stream_executor/cuda/cuda_diagnostics.cc:175] hostname: gpu0.ada.davidson.edu\n",
      "2023-04-27 21:44:13.987578: I tensorflow/compiler/xla/stream_executor/cuda/cuda_diagnostics.cc:199] libcuda reported version is: 530.30.2\n",
      "2023-04-27 21:44:13.987593: I tensorflow/compiler/xla/stream_executor/cuda/cuda_diagnostics.cc:203] kernel reported version is: 530.30.2\n",
      "2023-04-27 21:44:13.987597: I tensorflow/compiler/xla/stream_executor/cuda/cuda_diagnostics.cc:309] kernel version seems to match DSO: 530.30.2\n"
     ]
    }
   ],
   "source": [
    "Dense_model = DenseNet121(include_top=False, input_shape=(32, 32, 3), weights='imagenet')\n",
    "x = Flatten()(Dense_model.output)\n",
    "x = Dense(1024, activation='relu')(x)\n",
    "predictions = Dense(26, activation='softmax')(x)\n",
    "model = Model(inputs=Dense_model.input, outputs=predictions)"
   ]
  },
  {
   "cell_type": "code",
   "execution_count": 9,
   "id": "60c90040-2806-4ad7-84cc-4bc73bdb39f1",
   "metadata": {},
   "outputs": [
    {
     "name": "stderr",
     "output_type": "stream",
     "text": [
      "WARNING:absl:`lr` is deprecated in Keras optimizer, please use `learning_rate` or use the legacy optimizer, e.g.,tf.keras.optimizers.legacy.Adam.\n"
     ]
    },
    {
     "name": "stdout",
     "output_type": "stream",
     "text": [
      "Epoch 1/50\n",
      "687/687 [==============================] - 170s 213ms/step - loss: 0.7269 - accuracy: 0.7924 - val_loss: 0.5229 - val_accuracy: 0.8507\n",
      "Epoch 2/50\n",
      "687/687 [==============================] - 145s 211ms/step - loss: 0.1372 - accuracy: 0.9623 - val_loss: 0.8053 - val_accuracy: 0.7982\n",
      "Epoch 3/50\n",
      "687/687 [==============================] - 145s 211ms/step - loss: 0.0828 - accuracy: 0.9771 - val_loss: 0.6098 - val_accuracy: 0.8386\n",
      "Epoch 4/50\n",
      "687/687 [==============================] - 145s 211ms/step - loss: 0.0743 - accuracy: 0.9801 - val_loss: 0.2521 - val_accuracy: 0.9324\n",
      "Epoch 5/50\n",
      "687/687 [==============================] - 145s 211ms/step - loss: 0.0523 - accuracy: 0.9860 - val_loss: 0.0170 - val_accuracy: 0.9942\n",
      "Epoch 6/50\n",
      "687/687 [==============================] - 145s 211ms/step - loss: 0.0567 - accuracy: 0.9853 - val_loss: 0.1398 - val_accuracy: 0.9645\n",
      "Epoch 7/50\n",
      "687/687 [==============================] - 145s 211ms/step - loss: 0.0486 - accuracy: 0.9872 - val_loss: 0.0142 - val_accuracy: 0.9962\n",
      "Epoch 8/50\n",
      "687/687 [==============================] - 145s 211ms/step - loss: 0.0892 - accuracy: 0.9807 - val_loss: 0.0013 - val_accuracy: 0.9998\n",
      "Epoch 9/50\n",
      "687/687 [==============================] - 145s 211ms/step - loss: 0.0238 - accuracy: 0.9937 - val_loss: 0.0802 - val_accuracy: 0.9783\n",
      "Epoch 10/50\n",
      "687/687 [==============================] - 145s 212ms/step - loss: 0.0829 - accuracy: 0.9802 - val_loss: 0.1062 - val_accuracy: 0.9730\n",
      "Epoch 11/50\n",
      "687/687 [==============================] - 145s 211ms/step - loss: 0.0106 - accuracy: 0.9974 - val_loss: 0.0055 - val_accuracy: 0.9980\n",
      "Epoch 12/50\n",
      "687/687 [==============================] - 143s 209ms/step - loss: 0.0280 - accuracy: 0.9924 - val_loss: 0.1477 - val_accuracy: 0.9583\n",
      "Epoch 13/50\n",
      "687/687 [==============================] - 139s 202ms/step - loss: 0.0670 - accuracy: 0.9849 - val_loss: 5.1589e-04 - val_accuracy: 0.9998\n",
      "Epoch 14/50\n",
      "687/687 [==============================] - 139s 203ms/step - loss: 0.0020 - accuracy: 0.9995 - val_loss: 2.0984e-05 - val_accuracy: 1.0000\n",
      "Epoch 15/50\n",
      "687/687 [==============================] - 139s 202ms/step - loss: 0.0435 - accuracy: 0.9891 - val_loss: 3.4480 - val_accuracy: 0.6516\n",
      "Epoch 16/50\n",
      "687/687 [==============================] - 139s 202ms/step - loss: 0.0437 - accuracy: 0.9904 - val_loss: 0.2582 - val_accuracy: 0.9399\n",
      "Epoch 17/50\n",
      "687/687 [==============================] - 140s 203ms/step - loss: 0.0013 - accuracy: 0.9996 - val_loss: 0.0060 - val_accuracy: 0.9980\n",
      "Epoch 18/50\n",
      "687/687 [==============================] - 140s 203ms/step - loss: 0.0374 - accuracy: 0.9907 - val_loss: 0.5146 - val_accuracy: 0.8858\n",
      "Epoch 19/50\n",
      "687/687 [==============================] - 140s 204ms/step - loss: 0.0381 - accuracy: 0.9920 - val_loss: 0.0249 - val_accuracy: 0.9953\n",
      "Epoch 20/50\n",
      "687/687 [==============================] - 140s 203ms/step - loss: 0.0047 - accuracy: 0.9988 - val_loss: 0.0124 - val_accuracy: 0.9973\n",
      "Epoch 21/50\n",
      "687/687 [==============================] - 139s 203ms/step - loss: 0.0171 - accuracy: 0.9957 - val_loss: 0.0544 - val_accuracy: 0.9887\n",
      "Epoch 22/50\n",
      "687/687 [==============================] - 139s 203ms/step - loss: 0.0275 - accuracy: 0.9940 - val_loss: 0.0225 - val_accuracy: 0.9927\n",
      "Epoch 23/50\n",
      "687/687 [==============================] - 139s 203ms/step - loss: 0.0484 - accuracy: 0.9903 - val_loss: 0.1147 - val_accuracy: 0.9740\n",
      "Epoch 24/50\n",
      "687/687 [==============================] - 140s 203ms/step - loss: 0.0090 - accuracy: 0.9978 - val_loss: 5.7204e-04 - val_accuracy: 0.9998\n",
      "Epoch 25/50\n",
      "687/687 [==============================] - 140s 204ms/step - loss: 0.0166 - accuracy: 0.9967 - val_loss: 1.2520 - val_accuracy: 0.7612\n",
      "Epoch 26/50\n",
      "687/687 [==============================] - 140s 203ms/step - loss: 0.0108 - accuracy: 0.9972 - val_loss: 2.5095e-05 - val_accuracy: 1.0000\n",
      "Epoch 27/50\n",
      "687/687 [==============================] - 140s 203ms/step - loss: 0.0162 - accuracy: 0.9961 - val_loss: 0.0532 - val_accuracy: 0.9856\n",
      "Epoch 28/50\n",
      "687/687 [==============================] - 139s 203ms/step - loss: 0.0413 - accuracy: 0.9925 - val_loss: 6.5548e-05 - val_accuracy: 1.0000\n",
      "Epoch 29/50\n",
      "687/687 [==============================] - 140s 204ms/step - loss: 0.0126 - accuracy: 0.9971 - val_loss: 0.0017 - val_accuracy: 0.9993\n",
      "Epoch 30/50\n",
      "687/687 [==============================] - 140s 204ms/step - loss: 0.0040 - accuracy: 0.9992 - val_loss: 0.0029 - val_accuracy: 0.9989\n",
      "Epoch 31/50\n",
      "687/687 [==============================] - 140s 203ms/step - loss: 0.0221 - accuracy: 0.9949 - val_loss: 0.0277 - val_accuracy: 0.9905\n",
      "Epoch 32/50\n",
      "687/687 [==============================] - 142s 206ms/step - loss: 0.0030 - accuracy: 0.9991 - val_loss: 0.0020 - val_accuracy: 0.9993\n",
      "Epoch 33/50\n",
      "687/687 [==============================] - 141s 205ms/step - loss: 0.0186 - accuracy: 0.9961 - val_loss: 0.0027 - val_accuracy: 0.9995\n",
      "Epoch 34/50\n",
      "687/687 [==============================] - 143s 209ms/step - loss: 0.0273 - accuracy: 0.9946 - val_loss: 0.0446 - val_accuracy: 0.9891\n",
      "Epoch 35/50\n",
      "687/687 [==============================] - 144s 209ms/step - loss: 0.0120 - accuracy: 0.9970 - val_loss: 0.0178 - val_accuracy: 0.9944\n",
      "Epoch 36/50\n",
      "687/687 [==============================] - 143s 208ms/step - loss: 0.0066 - accuracy: 0.9983 - val_loss: 0.2404 - val_accuracy: 0.9346\n",
      "Epoch 37/50\n",
      "687/687 [==============================] - 142s 207ms/step - loss: 0.0060 - accuracy: 0.9987 - val_loss: 2.8125e-06 - val_accuracy: 1.0000\n",
      "Epoch 38/50\n",
      "687/687 [==============================] - 143s 207ms/step - loss: 0.0272 - accuracy: 0.9946 - val_loss: 0.1946 - val_accuracy: 0.9570\n",
      "Epoch 39/50\n",
      "687/687 [==============================] - 143s 208ms/step - loss: 0.0169 - accuracy: 0.9964 - val_loss: 0.3327 - val_accuracy: 0.9201\n",
      "Epoch 40/50\n",
      "687/687 [==============================] - 142s 207ms/step - loss: 0.0055 - accuracy: 0.9990 - val_loss: 0.0210 - val_accuracy: 0.9947\n",
      "Epoch 41/50\n",
      "687/687 [==============================] - 143s 208ms/step - loss: 0.0042 - accuracy: 0.9990 - val_loss: 0.0011 - val_accuracy: 0.9996\n",
      "Epoch 42/50\n",
      "687/687 [==============================] - 143s 208ms/step - loss: 0.0253 - accuracy: 0.9951 - val_loss: 0.1186 - val_accuracy: 0.9663\n",
      "Epoch 43/50\n",
      "687/687 [==============================] - 144s 210ms/step - loss: 0.0032 - accuracy: 0.9994 - val_loss: 1.2203e-04 - val_accuracy: 1.0000\n",
      "Epoch 44/50\n",
      "687/687 [==============================] - 139s 203ms/step - loss: 1.3581e-04 - accuracy: 1.0000 - val_loss: 1.2141e-06 - val_accuracy: 1.0000\n",
      "Epoch 45/50\n",
      "687/687 [==============================] - 139s 202ms/step - loss: 0.0216 - accuracy: 0.9958 - val_loss: 0.4797 - val_accuracy: 0.8911\n",
      "Epoch 46/50\n",
      "687/687 [==============================] - 139s 202ms/step - loss: 0.0212 - accuracy: 0.9956 - val_loss: 1.6684e-04 - val_accuracy: 0.9998\n",
      "Epoch 47/50\n",
      "687/687 [==============================] - 139s 202ms/step - loss: 9.6979e-04 - accuracy: 0.9998 - val_loss: 2.6538e-06 - val_accuracy: 1.0000\n",
      "Epoch 48/50\n",
      "687/687 [==============================] - 139s 202ms/step - loss: 1.6380e-04 - accuracy: 1.0000 - val_loss: 2.5825e-07 - val_accuracy: 1.0000\n",
      "Epoch 49/50\n",
      "687/687 [==============================] - 139s 202ms/step - loss: 0.0176 - accuracy: 0.9972 - val_loss: 0.6120 - val_accuracy: 0.8829\n",
      "Epoch 50/50\n",
      "687/687 [==============================] - 139s 202ms/step - loss: 0.0121 - accuracy: 0.9973 - val_loss: 0.0024 - val_accuracy: 0.9993\n",
      "172/172 [==============================] - 9s 51ms/step - loss: 0.0024 - accuracy: 0.9993\n",
      "Test accuracy: 0.9992715120315552\n"
     ]
    }
   ],
   "source": [
    "opt = Adam(lr=0.0001)\n",
    "model.compile(loss='categorical_crossentropy', optimizer=opt, metrics=['accuracy'])\n",
    "\n",
    "model.fit(train_data, train_labels, batch_size=32, epochs=50, validation_data=(train_test_data, train_test_labels))\n",
    "\n",
    "test_loss, test_acc = model.evaluate(train_test_data, train_test_labels)\n",
    "print('Test accuracy:', test_acc)"
   ]
  },
  {
   "cell_type": "code",
   "execution_count": 10,
   "id": "0c68ff5d-ac95-48a7-b4a1-3c89976ad4f2",
   "metadata": {},
   "outputs": [
    {
     "name": "stdout",
     "output_type": "stream",
     "text": [
      "225/225 [==============================] - 13s 52ms/step\n"
     ]
    }
   ],
   "source": [
    "import tensorflow as tf\n",
    "y_pred_labels = np.argmax(model.predict(test_data), axis=1)\n",
    "y_true_labels = np.argmax(test_labels, axis=1)"
   ]
  },
  {
   "cell_type": "code",
   "execution_count": 11,
   "id": "85bfdeb1-3728-40b4-80be-e3a229d37cc6",
   "metadata": {},
   "outputs": [
    {
     "name": "stdout",
     "output_type": "stream",
     "text": [
      "225/225 [==============================] - 12s 52ms/step - loss: 0.2316 - accuracy: 0.9525\n",
      "0.9524539709091187\n"
     ]
    }
   ],
   "source": [
    "final_loss, final_acc = model.evaluate(test_data, test_labels)\n",
    "print(final_acc)"
   ]
  },
  {
   "cell_type": "code",
   "execution_count": 12,
   "id": "2e48c35e-fd39-43f7-88c6-6d4a2ecef590",
   "metadata": {},
   "outputs": [],
   "source": [
    "import sklearn.metrics as metrics\n",
    "\n",
    "confusion_matrix = metrics.confusion_matrix(y_true=y_true_labels, y_pred=y_pred_labels) "
   ]
  },
  {
   "cell_type": "code",
   "execution_count": 13,
   "id": "6b3c1547-567b-483f-807a-94a0eb8a0085",
   "metadata": {},
   "outputs": [
    {
     "data": {
      "text/plain": [
       "<AxesSubplot:>"
      ]
     },
     "execution_count": 13,
     "metadata": {},
     "output_type": "execute_result"
    },
    {
     "data": {
      "image/png": "[encoded data removed]",
      "text/plain": [
       "<Figure size 720x504 with 2 Axes>"
      ]
     },
     "metadata": {
      "needs_background": "light"
     },
     "output_type": "display_data"
    }
   ],
   "source": [
    "import seaborn as sn\n",
    "import pandas as pd\n",
    "import matplotlib.pyplot as plt\n",
    "\n",
    "labels = []\n",
    "for i in range(0,26):\n",
    "    if(i != 9 and i!=25):\n",
    "        labels.append(chr(i+97))\n",
    "df_cm = pd.DataFrame(confusion_matrix, index = [i for i in labels],\n",
    "                  columns = [i for i in labels])\n",
    "plt.figure(figsize = (10,7))\n",
    "sn.heatmap(df_cm, annot=True,cmap='Blues', fmt='g')"
   ]
  },
  {
   "cell_type": "code",
   "execution_count": 14,
   "id": "24aebf79-9f60-4c4c-a452-4232808752a1",
   "metadata": {},
   "outputs": [
    {
     "data": {
      "text/plain": [
       "0.9526457243452345"
      ]
     },
     "execution_count": 14,
     "metadata": {},
     "output_type": "execute_result"
    }
   ],
   "source": [
    "from sklearn.metrics import f1_score\n",
    "\n",
    "f1_score(y_true_labels, y_pred_labels, average='weighted')"
   ]
  },
  {
   "cell_type": "code",
   "execution_count": null,
   "id": "b21a2900-d562-4e2b-8daa-bc72bae71e3a",
   "metadata": {},
   "outputs": [],
   "source": [
    "model.summary()"
   ]
  },
  {
   "cell_type": "code",
   "execution_count": null,
   "id": "5d45a3aa-4f3e-4d4c-9c36-25157bf99946",
   "metadata": {},
   "outputs": [],
   "source": []
  }
 ],
 "metadata": {
  "kernelspec": {
   "display_name": "Python 3.8",
   "language": "python",
   "name": "python3"
  },
  "language_info": {
   "codemirror_mode": {
    "name": "ipython",
    "version": 3
   },
   "file_extension": ".py",
   "mimetype": "text/x-python",
   "name": "python",
   "nbconvert_exporter": "python",
   "pygments_lexer": "ipython3",
   "version": "3.8.6"
  }
 },
 "nbformat": 4,
 "nbformat_minor": 5
}
